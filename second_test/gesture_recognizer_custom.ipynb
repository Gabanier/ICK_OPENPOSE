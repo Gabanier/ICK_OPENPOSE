{
        "cells": [
                {
                        "cell_type": "markdown",
                        "metadata": {
                                "id": "Z-9BpIlqAZci"
                        },
                        "source": [
                                "Project: /mediapipe/_project.yaml\n",
                                "Book: /mediapipe/_book.yaml\n",
                                "\n",
                                "<link rel=\"stylesheet\" href=\"/mediapipe/site.css\">\n",
                                "\n",
                                "# Hand gesture recognition model customization guide\n",
                                "\n",
                                "<table align=\"left\" class=\"buttons\">\n",
                                "  <td>\n",
                                "    <a href=\"https://colab.research.google.com/github/googlesamples/mediapipe/blob/main/examples/customization/gesture_recognizer.ipynb\" target=\"_blank\">\n",
                                "      <img src=\"https://developers.google.com/static/mediapipe/solutions/customization/colab-logo-32px_1920.png\" alt=\"Colab logo\"> Run in Colab\n",
                                "    </a>\n",
                                "  </td>\n",
                                "\n",
                                "  <td>\n",
                                "    <a href=\"https://github.com/googlesamples/mediapipe/blob/main/examples/customization/gesture_recognizer.ipynb\" target=\"_blank\">\n",
                                "      <img src=\"https://developers.google.com/static/mediapipe/solutions/customization/github-logo-32px_1920.png\" alt=\"GitHub logo\">\n",
                                "      View on GitHub\n",
                                "    </a>\n",
                                "  </td>\n",
                                "</table>"
                        ]
                },
                {
                        "cell_type": "code",
                        "execution_count": 7,
                        "metadata": {
                                "id": "JO1GUwC1_T2x"
                        },
                        "outputs": [],
                        "source": [
                                "#@title License information\n",
                                "# Copyright 2023 The MediaPipe Authors.\n",
                                "# Licensed under the Apache License, Version 2.0 (the \"License\");\n",
                                "#\n",
                                "# you may not use this file except in compliance with the License.\n",
                                "# You may obtain a copy of the License at\n",
                                "#\n",
                                "# https://www.apache.org/licenses/LICENSE-2.0\n",
                                "#\n",
                                "# Unless required by applicable law or agreed to in writing, software\n",
                                "# distributed under the License is distributed on an \"AS IS\" BASIS,\n",
                                "# WITHOUT WARRANTIES OR CONDITIONS OF ANY KIND, either express or implied.\n",
                                "# See the License for the specific language governing permissions and\n",
                                "# limitations under the License."
                        ]
                },
                {
                        "cell_type": "markdown",
                        "metadata": {
                                "id": "wFBcmjzf0JLE"
                        },
                        "source": [
                                "The MediaPipe Model Maker package is a low-code solution for customizing on-device machine learning (ML) Models.\n",
                                "\n",
                                "This notebook shows the end-to-end process of customizing a gesture recognizer model for recognizing some common hand gestures in the [HaGRID](https://www.kaggle.com/datasets/innominate817/hagrid-sample-30k-384p) dataset."
                        ]
                },
                {
                        "cell_type": "markdown",
                        "metadata": {
                                "id": "YGM0PT490LiR"
                        },
                        "source": [
                                "## Prerequisites"
                        ]
                },
                {
                        "cell_type": "markdown",
                        "metadata": {
                                "id": "cVVxZNfo0M0y"
                        },
                        "source": [
                                "Install the MediaPipe Model Maker package."
                        ]
                },
                {
                        "cell_type": "code",
                        "execution_count": 8,
                        "metadata": {
                                "id": "6DBLRE-fqlO5"
                        },
                        "outputs": [],
                        "source": [
                                "# !pip install --upgrade pip\n",
                                "# !pip install mediapipe-model-maker"
                        ]
                },
                {
                        "cell_type": "markdown",
                        "metadata": {
                                "id": "v3CvTNmB1WiY"
                        },
                        "source": [
                                "Import the required libraries."
                        ]
                },
                {
                        "cell_type": "code",
                        "execution_count": 9,
                        "metadata": {
                                "id": "c74UL9oI0VKU"
                        },
                        "outputs": [],
                        "source": [
                                "# from google.colab import files\n",
                                "import os\n",
                                "import tensorflow as tf\n",
                                "assert tf.__version__.startswith('2')\n",
                                "\n",
                                "from mediapipe_model_maker import gesture_recognizer\n",
                                "\n",
                                "import matplotlib.pyplot as plt"
                        ]
                },
                {
                        "cell_type": "markdown",
                        "metadata": {
                                "id": "IppoENBmAuFn"
                        },
                        "source": [
                                "## Simple End-to-End Example\n",
                                "\n",
                                "This end-to-end example uses Model Maker to customize a model for on-device gesture recognition."
                        ]
                },
                {
                        "cell_type": "markdown",
                        "metadata": {
                                "id": "i8fMLXTdD6tW"
                        },
                        "source": [
                                "### Get the dataset"
                        ]
                },
                {
                        "cell_type": "markdown",
                        "metadata": {
                                "id": "7TwDFilngzjs"
                        },
                        "source": [
                                "The dataset for gesture recognition in model maker requires the following format: `<dataset_path>/<label_name>/<img_name>.*`. In addition, one of the label names (`label_names`) must be `none`. The `none` label represents any gesture that isn't classified as one of the other gestures.\n",
                                "\n",
                                "This example uses a rock paper scissors dataset sample which is downloaded from GCS."
                        ]
                },
                {
                        "cell_type": "code",
                        "execution_count": 10,
                        "metadata": {
                                "id": "6dwmyg5MnR_y"
                        },
                        "outputs": [
                                {
                                        "name": "stdout",
                                        "output_type": "stream",
                                        "text": [
                                                "File already exists.\n"
                                        ]
                                }
                        ],
                        "source": [
                                "import os\n",
                                "\n",
                                "import os\n",
                                "if not os.path.exists(\"rps_data_sample.zip\"):\n",
                                "    !wget https://storage.googleapis.com/mediapipe-tasks/gesture_recognizer/rps_data_sample.zip\n",
                                "    !unzip rps_data_sample.zip\n",
                                "    print(\"File downloaded.\")\n",
                                "else:\n",
                                "    print(\"File already exists.\")\n",
                                "\n",
                                "\n",
                                "dataset_path = \"rps_data_sample\""
                        ]
                },
                {
                        "cell_type": "markdown",
                        "metadata": {
                                "id": "iiWb9Tu3lBBI"
                        },
                        "source": [
                                "Verify the rock paper scissors dataset by printing the labels. There should be 4 gesture labels, with one of them being the `none` gesture."
                        ]
                },
                {
                        "cell_type": "code",
                        "execution_count": 11,
                        "metadata": {
                                "id": "QgadM4VDj3Y2"
                        },
                        "outputs": [
                                {
                                        "name": "stdout",
                                        "output_type": "stream",
                                        "text": [
                                                "rps_data_sample\n",
                                                "['none', 'scissors', 'rock', 'paper']\n"
                                        ]
                                }
                        ],
                        "source": [
                                "print(dataset_path)\n",
                                "labels = []\n",
                                "for i in os.listdir(dataset_path):\n",
                                "  if os.path.isdir(os.path.join(dataset_path, i)):\n",
                                "    labels.append(i)\n",
                                "print(labels)"
                        ]
                },
                {
                        "cell_type": "markdown",
                        "metadata": {
                                "id": "CA0o59OMjqmV"
                        },
                        "source": [
                                "To better understand the dataset, plot a couple of example images for each gesture."
                        ]
                },
                {
                        "cell_type": "code",
                        "execution_count": 12,
                        "metadata": {
                                "id": "sx8PsrwYjvgO"
                        },
                        "outputs": [
                                {
                                        "name": "stderr",
                                        "output_type": "stream",
                                        "text": [
                                                "/tmp/ipykernel_6490/544766458.py:13: UserWarning: FigureCanvasAgg is non-interactive, and thus cannot be shown\n",
                                                "  plt.show()\n"
                                        ]
                                }
                        ],
                        "source": [
                                "NUM_EXAMPLES = 5\n",
                                "\n",
                                "for label in labels:\n",
                                "  label_dir = os.path.join(dataset_path, label)\n",
                                "  example_filenames = os.listdir(label_dir)[:NUM_EXAMPLES]\n",
                                "  fig, axs = plt.subplots(1, NUM_EXAMPLES, figsize=(10,2))\n",
                                "  for i in range(NUM_EXAMPLES):\n",
                                "    axs[i].imshow(plt.imread(os.path.join(label_dir, example_filenames[i])))\n",
                                "    axs[i].get_xaxis().set_visible(False)\n",
                                "    axs[i].get_yaxis().set_visible(False)\n",
                                "  fig.suptitle(f'Showing {NUM_EXAMPLES} examples for {label}')\n",
                                "\n",
                                "plt.show()"
                        ]
                },
                {
                        "cell_type": "markdown",
                        "metadata": {
                                "id": "sWXwEXSXlg7d"
                        },
                        "source": [
                                "### Run the example\n",
                                "The workflow consists of 4 steps which have been separated into their own code blocks."
                        ]
                },
                {
                        "cell_type": "markdown",
                        "metadata": {
                                "id": "OF9ArLQXIu25"
                        },
                        "source": [
                                "**Load the dataset**\n",
                                "\n",
                                "Load the dataset located at `dataset_path` by using the `Dataset.from_folder` method. When loading the dataset, run the pre-packaged hand detection model from MediaPipe Hands to detect the hand landmarks from the images. Any images without detected hands are ommitted from the dataset. The resulting dataset will contain the extracted hand landmark positions from each image, rather than images themselves.\n",
                                "\n",
                                "The `HandDataPreprocessingParams` class contains two configurable options for the data loading process:\n",
                                "* `shuffle`: A boolean controlling whether to shuffle the dataset. Defaults to true.\n",
                                "* `min_detection_confidence`: A float between 0 and 1 controlling the confidence threshold for hand detection.\n",
                                "\n",
                                "Split the dataset: 80% for training, 10% for validation, and 10% for testing."
                        ]
                },
                {
                        "cell_type": "code",
                        "execution_count": 13,
                        "metadata": {
                                "id": "aTTNZsolKXiT"
                        },
                        "outputs": [
                                {
                                        "name": "stdout",
                                        "output_type": "stream",
                                        "text": [
                                                "Downloading https://storage.googleapis.com/mediapipe-assets/palm_detection_full.tflite to /tmp/model_maker/gesture_recognizer/palm_detection_full.tflite\n",
                                                "Downloading https://storage.googleapis.com/mediapipe-assets/hand_landmark_full.tflite to /tmp/model_maker/gesture_recognizer/hand_landmark_full.tflite\n",
                                                "INFO:tensorflow:Loading image /home/bankab/AGH_ISS/Semestr_1/ICK/second_test/rps_data_sample/paper/258.jpg\n",
                                                "INFO:tensorflow:Loading image /home/bankab/AGH_ISS/Semestr_1/ICK/second_test/rps_data_sample/none/1501.jpg\n"
                                        ]
                                },
                                {
                                        "name": "stderr",
                                        "output_type": "stream",
                                        "text": [
                                                "libEGL warning: egl: failed to create dri2 screen\n",
                                                "libEGL warning: egl: failed to create dri2 screen\n",
                                                "WARNING: All log messages before absl::InitializeLog() is called are written to STDERR\n",
                                                "I0000 00:00:1743154425.243208    6490 gl_context_egl.cc:85] Successfully initialized EGL. Major : 1 Minor: 5\n",
                                                "I0000 00:00:1743154425.274214    6997 gl_context.cc:369] GL version: 3.2 (OpenGL ES 3.2 Mesa 25.0.2-arch1.2), renderer: llvmpipe (LLVM 19.1.7, 256 bits)\n",
                                                "INFO: Created TensorFlow Lite XNNPACK delegate for CPU.\n",
                                                "W0000 00:00:1743154425.352678    7001 inference_feedback_manager.cc:114] Feedback manager requires a model with a single signature inference. Disabling support for feedback tensors.\n",
                                                "W0000 00:00:1743154425.393713    7005 inference_feedback_manager.cc:114] Feedback manager requires a model with a single signature inference. Disabling support for feedback tensors.\n",
                                                "W0000 00:00:1743154425.505570    7007 landmark_projection_calculator.cc:186] Using NORM_RECT without IMAGE_DIMENSIONS is only supported for the square ROI. Provide IMAGE_DIMENSIONS or use PROJECTION_MATRIX.\n"
                                        ]
                                },
                                {
                                        "name": "stdout",
                                        "output_type": "stream",
                                        "text": [
                                                "INFO:tensorflow:Loading image /home/bankab/AGH_ISS/Semestr_1/ICK/second_test/rps_data_sample/rock/218.jpg\n",
                                                "INFO:tensorflow:Loading image /home/bankab/AGH_ISS/Semestr_1/ICK/second_test/rps_data_sample/none/190.jpg\n",
                                                "INFO:tensorflow:Loading image /home/bankab/AGH_ISS/Semestr_1/ICK/second_test/rps_data_sample/scissors/188.jpg\n",
                                                "INFO:tensorflow:Loading image /home/bankab/AGH_ISS/Semestr_1/ICK/second_test/rps_data_sample/rock/182.jpg\n",
                                                "INFO:tensorflow:Loading image /home/bankab/AGH_ISS/Semestr_1/ICK/second_test/rps_data_sample/none/950.jpg\n",
                                                "INFO:tensorflow:Loading image /home/bankab/AGH_ISS/Semestr_1/ICK/second_test/rps_data_sample/paper/176.jpg\n",
                                                "INFO:tensorflow:Loading image /home/bankab/AGH_ISS/Semestr_1/ICK/second_test/rps_data_sample/rock/431.jpg\n",
                                                "INFO:tensorflow:Loading image /home/bankab/AGH_ISS/Semestr_1/ICK/second_test/rps_data_sample/none/1107.jpg\n",
                                                "INFO:tensorflow:Loading image /home/bankab/AGH_ISS/Semestr_1/ICK/second_test/rps_data_sample/none/142.jpg\n",
                                                "INFO:tensorflow:Loading image /home/bankab/AGH_ISS/Semestr_1/ICK/second_test/rps_data_sample/paper/206.jpg\n",
                                                "INFO:tensorflow:Loading image /home/bankab/AGH_ISS/Semestr_1/ICK/second_test/rps_data_sample/none/1067.jpg\n",
                                                "INFO:tensorflow:Loading image /home/bankab/AGH_ISS/Semestr_1/ICK/second_test/rps_data_sample/paper/183.jpg\n",
                                                "INFO:tensorflow:Loading image /home/bankab/AGH_ISS/Semestr_1/ICK/second_test/rps_data_sample/none/1376.jpg\n",
                                                "INFO:tensorflow:Loading image /home/bankab/AGH_ISS/Semestr_1/ICK/second_test/rps_data_sample/none/1299.jpg\n",
                                                "INFO:tensorflow:Loading image /home/bankab/AGH_ISS/Semestr_1/ICK/second_test/rps_data_sample/rock/760.jpg\n",
                                                "INFO:tensorflow:Loading image /home/bankab/AGH_ISS/Semestr_1/ICK/second_test/rps_data_sample/scissors/792.jpg\n",
                                                "INFO:tensorflow:Loading image /home/bankab/AGH_ISS/Semestr_1/ICK/second_test/rps_data_sample/paper/977.jpg\n",
                                                "INFO:tensorflow:Loading image /home/bankab/AGH_ISS/Semestr_1/ICK/second_test/rps_data_sample/scissors/16.jpg\n",
                                                "INFO:tensorflow:Loading image /home/bankab/AGH_ISS/Semestr_1/ICK/second_test/rps_data_sample/paper/944.jpg\n",
                                                "INFO:tensorflow:Loading image /home/bankab/AGH_ISS/Semestr_1/ICK/second_test/rps_data_sample/paper/734.jpg\n",
                                                "INFO:tensorflow:Loading image /home/bankab/AGH_ISS/Semestr_1/ICK/second_test/rps_data_sample/rock/722.jpg\n",
                                                "INFO:tensorflow:Loading image /home/bankab/AGH_ISS/Semestr_1/ICK/second_test/rps_data_sample/paper/24.jpg\n",
                                                "INFO:tensorflow:Loading image /home/bankab/AGH_ISS/Semestr_1/ICK/second_test/rps_data_sample/scissors/223.jpg\n",
                                                "INFO:tensorflow:Loading image /home/bankab/AGH_ISS/Semestr_1/ICK/second_test/rps_data_sample/rock/614.jpg\n",
                                                "INFO:tensorflow:Loading image /home/bankab/AGH_ISS/Semestr_1/ICK/second_test/rps_data_sample/none/1712.jpg\n",
                                                "INFO:tensorflow:Loading image /home/bankab/AGH_ISS/Semestr_1/ICK/second_test/rps_data_sample/rock/905.jpg\n",
                                                "INFO:tensorflow:Loading image /home/bankab/AGH_ISS/Semestr_1/ICK/second_test/rps_data_sample/rock/906.jpg\n",
                                                "INFO:tensorflow:Loading image /home/bankab/AGH_ISS/Semestr_1/ICK/second_test/rps_data_sample/scissors/706.jpg\n",
                                                "INFO:tensorflow:Loading image /home/bankab/AGH_ISS/Semestr_1/ICK/second_test/rps_data_sample/none/1799.jpg\n",
                                                "INFO:tensorflow:Loading image /home/bankab/AGH_ISS/Semestr_1/ICK/second_test/rps_data_sample/paper/283.jpg\n",
                                                "INFO:tensorflow:Loading image /home/bankab/AGH_ISS/Semestr_1/ICK/second_test/rps_data_sample/rock/211.jpg\n",
                                                "INFO:tensorflow:Loading image /home/bankab/AGH_ISS/Semestr_1/ICK/second_test/rps_data_sample/scissors/230.jpg\n",
                                                "INFO:tensorflow:Loading image /home/bankab/AGH_ISS/Semestr_1/ICK/second_test/rps_data_sample/scissors/323.jpg\n",
                                                "INFO:tensorflow:Loading image /home/bankab/AGH_ISS/Semestr_1/ICK/second_test/rps_data_sample/rock/938.jpg\n",
                                                "INFO:tensorflow:Loading image /home/bankab/AGH_ISS/Semestr_1/ICK/second_test/rps_data_sample/none/1128.jpg\n",
                                                "INFO:tensorflow:Loading image /home/bankab/AGH_ISS/Semestr_1/ICK/second_test/rps_data_sample/rock/152.jpg\n",
                                                "INFO:tensorflow:Loading image /home/bankab/AGH_ISS/Semestr_1/ICK/second_test/rps_data_sample/rock/931.jpg\n",
                                                "INFO:tensorflow:Loading image /home/bankab/AGH_ISS/Semestr_1/ICK/second_test/rps_data_sample/rock/769.jpg\n",
                                                "INFO:tensorflow:Loading image /home/bankab/AGH_ISS/Semestr_1/ICK/second_test/rps_data_sample/none/993.jpg\n",
                                                "INFO:tensorflow:Loading image /home/bankab/AGH_ISS/Semestr_1/ICK/second_test/rps_data_sample/rock/407.jpg\n",
                                                "INFO:tensorflow:Loading image /home/bankab/AGH_ISS/Semestr_1/ICK/second_test/rps_data_sample/rock/956.jpg\n",
                                                "INFO:tensorflow:Loading image /home/bankab/AGH_ISS/Semestr_1/ICK/second_test/rps_data_sample/rock/216.jpg\n",
                                                "INFO:tensorflow:Loading image /home/bankab/AGH_ISS/Semestr_1/ICK/second_test/rps_data_sample/scissors/251.jpg\n",
                                                "INFO:tensorflow:Loading image /home/bankab/AGH_ISS/Semestr_1/ICK/second_test/rps_data_sample/none/1811.jpg\n",
                                                "INFO:tensorflow:Loading image /home/bankab/AGH_ISS/Semestr_1/ICK/second_test/rps_data_sample/paper/249.jpg\n",
                                                "INFO:tensorflow:Loading image /home/bankab/AGH_ISS/Semestr_1/ICK/second_test/rps_data_sample/rock/409.jpg\n",
                                                "INFO:tensorflow:Loading image /home/bankab/AGH_ISS/Semestr_1/ICK/second_test/rps_data_sample/paper/844.jpg\n",
                                                "INFO:tensorflow:Loading image /home/bankab/AGH_ISS/Semestr_1/ICK/second_test/rps_data_sample/none/744.jpg\n",
                                                "INFO:tensorflow:Loading image /home/bankab/AGH_ISS/Semestr_1/ICK/second_test/rps_data_sample/paper/50.jpg\n",
                                                "INFO:tensorflow:Loading image /home/bankab/AGH_ISS/Semestr_1/ICK/second_test/rps_data_sample/rock/772.jpg\n",
                                                "INFO:tensorflow:Loading image /home/bankab/AGH_ISS/Semestr_1/ICK/second_test/rps_data_sample/rock/529.jpg\n",
                                                "INFO:tensorflow:Loading image /home/bankab/AGH_ISS/Semestr_1/ICK/second_test/rps_data_sample/none/1340.jpg\n",
                                                "INFO:tensorflow:Loading image /home/bankab/AGH_ISS/Semestr_1/ICK/second_test/rps_data_sample/rock/254.jpg\n",
                                                "INFO:tensorflow:Loading image /home/bankab/AGH_ISS/Semestr_1/ICK/second_test/rps_data_sample/none/1784.jpg\n",
                                                "INFO:tensorflow:Loading image /home/bankab/AGH_ISS/Semestr_1/ICK/second_test/rps_data_sample/none/1446.jpg\n",
                                                "INFO:tensorflow:Loading image /home/bankab/AGH_ISS/Semestr_1/ICK/second_test/rps_data_sample/paper/677.jpg\n",
                                                "INFO:tensorflow:Loading image /home/bankab/AGH_ISS/Semestr_1/ICK/second_test/rps_data_sample/none/1663.jpg\n",
                                                "INFO:tensorflow:Loading image /home/bankab/AGH_ISS/Semestr_1/ICK/second_test/rps_data_sample/none/270.jpg\n",
                                                "INFO:tensorflow:Loading image /home/bankab/AGH_ISS/Semestr_1/ICK/second_test/rps_data_sample/none/433.jpg\n",
                                                "INFO:tensorflow:Loading image /home/bankab/AGH_ISS/Semestr_1/ICK/second_test/rps_data_sample/rock/861.jpg\n",
                                                "INFO:tensorflow:Loading image /home/bankab/AGH_ISS/Semestr_1/ICK/second_test/rps_data_sample/paper/905.jpg\n",
                                                "INFO:tensorflow:Loading image /home/bankab/AGH_ISS/Semestr_1/ICK/second_test/rps_data_sample/paper/439.jpg\n",
                                                "INFO:tensorflow:Loading image /home/bankab/AGH_ISS/Semestr_1/ICK/second_test/rps_data_sample/paper/393.jpg\n",
                                                "INFO:tensorflow:Loading image /home/bankab/AGH_ISS/Semestr_1/ICK/second_test/rps_data_sample/paper/832.jpg\n",
                                                "INFO:tensorflow:Loading image /home/bankab/AGH_ISS/Semestr_1/ICK/second_test/rps_data_sample/rock/435.jpg\n",
                                                "INFO:tensorflow:Loading image /home/bankab/AGH_ISS/Semestr_1/ICK/second_test/rps_data_sample/none/1224.jpg\n",
                                                "INFO:tensorflow:Loading image /home/bankab/AGH_ISS/Semestr_1/ICK/second_test/rps_data_sample/none/32.jpg\n",
                                                "INFO:tensorflow:Loading image /home/bankab/AGH_ISS/Semestr_1/ICK/second_test/rps_data_sample/rock/356.jpg\n",
                                                "INFO:tensorflow:Loading image /home/bankab/AGH_ISS/Semestr_1/ICK/second_test/rps_data_sample/scissors/378.jpg\n",
                                                "INFO:tensorflow:Loading image /home/bankab/AGH_ISS/Semestr_1/ICK/second_test/rps_data_sample/none/76.jpg\n",
                                                "INFO:tensorflow:Loading image /home/bankab/AGH_ISS/Semestr_1/ICK/second_test/rps_data_sample/scissors/804.jpg\n",
                                                "INFO:tensorflow:Loading image /home/bankab/AGH_ISS/Semestr_1/ICK/second_test/rps_data_sample/paper/654.jpg\n",
                                                "INFO:tensorflow:Loading image /home/bankab/AGH_ISS/Semestr_1/ICK/second_test/rps_data_sample/paper/53.jpg\n",
                                                "INFO:tensorflow:Loading image /home/bankab/AGH_ISS/Semestr_1/ICK/second_test/rps_data_sample/none/1802.jpg\n",
                                                "INFO:tensorflow:Loading image /home/bankab/AGH_ISS/Semestr_1/ICK/second_test/rps_data_sample/scissors/732.jpg\n",
                                                "INFO:tensorflow:Loading image /home/bankab/AGH_ISS/Semestr_1/ICK/second_test/rps_data_sample/none/33.jpg\n",
                                                "INFO:tensorflow:Loading image /home/bankab/AGH_ISS/Semestr_1/ICK/second_test/rps_data_sample/scissors/782.jpg\n",
                                                "INFO:tensorflow:Loading image /home/bankab/AGH_ISS/Semestr_1/ICK/second_test/rps_data_sample/rock/929.jpg\n",
                                                "INFO:tensorflow:Loading image /home/bankab/AGH_ISS/Semestr_1/ICK/second_test/rps_data_sample/rock/901.jpg\n",
                                                "INFO:tensorflow:Loading image /home/bankab/AGH_ISS/Semestr_1/ICK/second_test/rps_data_sample/rock/285.jpg\n",
                                                "INFO:tensorflow:Loading image /home/bankab/AGH_ISS/Semestr_1/ICK/second_test/rps_data_sample/scissors/657.jpg\n",
                                                "INFO:tensorflow:Loading image /home/bankab/AGH_ISS/Semestr_1/ICK/second_test/rps_data_sample/paper/838.jpg\n",
                                                "INFO:tensorflow:Loading image /home/bankab/AGH_ISS/Semestr_1/ICK/second_test/rps_data_sample/rock/300.jpg\n",
                                                "INFO:tensorflow:Loading image /home/bankab/AGH_ISS/Semestr_1/ICK/second_test/rps_data_sample/scissors/641.jpg\n",
                                                "INFO:tensorflow:Loading image /home/bankab/AGH_ISS/Semestr_1/ICK/second_test/rps_data_sample/rock/82.jpg\n",
                                                "INFO:tensorflow:Loading image /home/bankab/AGH_ISS/Semestr_1/ICK/second_test/rps_data_sample/paper/544.jpg\n",
                                                "INFO:tensorflow:Loading image /home/bankab/AGH_ISS/Semestr_1/ICK/second_test/rps_data_sample/scissors/192.jpg\n",
                                                "INFO:tensorflow:Loading image /home/bankab/AGH_ISS/Semestr_1/ICK/second_test/rps_data_sample/scissors/691.jpg\n",
                                                "INFO:tensorflow:Loading image /home/bankab/AGH_ISS/Semestr_1/ICK/second_test/rps_data_sample/scissors/14.jpg\n",
                                                "INFO:tensorflow:Loading image /home/bankab/AGH_ISS/Semestr_1/ICK/second_test/rps_data_sample/rock/30.jpg\n",
                                                "INFO:tensorflow:Loading image /home/bankab/AGH_ISS/Semestr_1/ICK/second_test/rps_data_sample/paper/785.jpg\n",
                                                "INFO:tensorflow:Loading image /home/bankab/AGH_ISS/Semestr_1/ICK/second_test/rps_data_sample/scissors/753.jpg\n",
                                                "INFO:tensorflow:Loading image /home/bankab/AGH_ISS/Semestr_1/ICK/second_test/rps_data_sample/scissors/791.jpg\n",
                                                "INFO:tensorflow:Loading image /home/bankab/AGH_ISS/Semestr_1/ICK/second_test/rps_data_sample/none/779.jpg\n",
                                                "INFO:tensorflow:Loading image /home/bankab/AGH_ISS/Semestr_1/ICK/second_test/rps_data_sample/paper/537.jpg\n",
                                                "INFO:tensorflow:Loading image /home/bankab/AGH_ISS/Semestr_1/ICK/second_test/rps_data_sample/scissors/96.jpg\n",
                                                "INFO:tensorflow:Loading image /home/bankab/AGH_ISS/Semestr_1/ICK/second_test/rps_data_sample/rock/834.jpg\n",
                                                "INFO:tensorflow:Loading image /home/bankab/AGH_ISS/Semestr_1/ICK/second_test/rps_data_sample/scissors/707.jpg\n",
                                                "INFO:tensorflow:Loading image /home/bankab/AGH_ISS/Semestr_1/ICK/second_test/rps_data_sample/rock/648.jpg\n",
                                                "INFO:tensorflow:Loading image /home/bankab/AGH_ISS/Semestr_1/ICK/second_test/rps_data_sample/none/1747.jpg\n",
                                                "INFO:tensorflow:Loading image /home/bankab/AGH_ISS/Semestr_1/ICK/second_test/rps_data_sample/none/165.jpg\n",
                                                "INFO:tensorflow:Loading image /home/bankab/AGH_ISS/Semestr_1/ICK/second_test/rps_data_sample/paper/837.jpg\n",
                                                "INFO:tensorflow:Loading image /home/bankab/AGH_ISS/Semestr_1/ICK/second_test/rps_data_sample/none/613.jpg\n",
                                                "INFO:tensorflow:Loading image /home/bankab/AGH_ISS/Semestr_1/ICK/second_test/rps_data_sample/scissors/387.jpg\n",
                                                "INFO:tensorflow:Loading image /home/bankab/AGH_ISS/Semestr_1/ICK/second_test/rps_data_sample/rock/399.jpg\n",
                                                "INFO:tensorflow:Loading image /home/bankab/AGH_ISS/Semestr_1/ICK/second_test/rps_data_sample/none/1206.jpg\n",
                                                "INFO:tensorflow:Loading image /home/bankab/AGH_ISS/Semestr_1/ICK/second_test/rps_data_sample/scissors/568.jpg\n",
                                                "INFO:tensorflow:Loading image /home/bankab/AGH_ISS/Semestr_1/ICK/second_test/rps_data_sample/scissors/520.jpg\n",
                                                "INFO:tensorflow:Loading image /home/bankab/AGH_ISS/Semestr_1/ICK/second_test/rps_data_sample/scissors/57.jpg\n",
                                                "INFO:tensorflow:Loading image /home/bankab/AGH_ISS/Semestr_1/ICK/second_test/rps_data_sample/scissors/448.jpg\n",
                                                "INFO:tensorflow:Loading image /home/bankab/AGH_ISS/Semestr_1/ICK/second_test/rps_data_sample/rock/728.jpg\n",
                                                "INFO:tensorflow:Loading image /home/bankab/AGH_ISS/Semestr_1/ICK/second_test/rps_data_sample/scissors/5.jpg\n",
                                                "INFO:tensorflow:Loading image /home/bankab/AGH_ISS/Semestr_1/ICK/second_test/rps_data_sample/none/1089.jpg\n",
                                                "INFO:tensorflow:Loading image /home/bankab/AGH_ISS/Semestr_1/ICK/second_test/rps_data_sample/scissors/90.jpg\n",
                                                "INFO:tensorflow:Loading image /home/bankab/AGH_ISS/Semestr_1/ICK/second_test/rps_data_sample/rock/206.jpg\n",
                                                "INFO:tensorflow:Loading image /home/bankab/AGH_ISS/Semestr_1/ICK/second_test/rps_data_sample/scissors/156.jpg\n",
                                                "INFO:tensorflow:Loading image /home/bankab/AGH_ISS/Semestr_1/ICK/second_test/rps_data_sample/scissors/116.jpg\n",
                                                "INFO:tensorflow:Loading image /home/bankab/AGH_ISS/Semestr_1/ICK/second_test/rps_data_sample/scissors/785.jpg\n",
                                                "INFO:tensorflow:Loading image /home/bankab/AGH_ISS/Semestr_1/ICK/second_test/rps_data_sample/paper/757.jpg\n",
                                                "INFO:tensorflow:Loading image /home/bankab/AGH_ISS/Semestr_1/ICK/second_test/rps_data_sample/scissors/760.jpg\n",
                                                "INFO:tensorflow:Loading image /home/bankab/AGH_ISS/Semestr_1/ICK/second_test/rps_data_sample/rock/449.jpg\n",
                                                "INFO:tensorflow:Loading image /home/bankab/AGH_ISS/Semestr_1/ICK/second_test/rps_data_sample/paper/719.jpg\n",
                                                "INFO:tensorflow:Loading image /home/bankab/AGH_ISS/Semestr_1/ICK/second_test/rps_data_sample/rock/28.jpg\n",
                                                "INFO:tensorflow:Loading image /home/bankab/AGH_ISS/Semestr_1/ICK/second_test/rps_data_sample/none/213.jpg\n",
                                                "INFO:tensorflow:Loading image /home/bankab/AGH_ISS/Semestr_1/ICK/second_test/rps_data_sample/scissors/476.jpg\n",
                                                "INFO:tensorflow:Loading image /home/bankab/AGH_ISS/Semestr_1/ICK/second_test/rps_data_sample/scissors/162.jpg\n",
                                                "INFO:tensorflow:Loading image /home/bankab/AGH_ISS/Semestr_1/ICK/second_test/rps_data_sample/rock/593.jpg\n",
                                                "INFO:tensorflow:Loading image /home/bankab/AGH_ISS/Semestr_1/ICK/second_test/rps_data_sample/none/1083.jpg\n",
                                                "INFO:tensorflow:Loading image /home/bankab/AGH_ISS/Semestr_1/ICK/second_test/rps_data_sample/scissors/261.jpg\n",
                                                "INFO:tensorflow:Loading image /home/bankab/AGH_ISS/Semestr_1/ICK/second_test/rps_data_sample/rock/305.jpg\n",
                                                "INFO:tensorflow:Loading image /home/bankab/AGH_ISS/Semestr_1/ICK/second_test/rps_data_sample/scissors/522.jpg\n",
                                                "INFO:tensorflow:Loading image /home/bankab/AGH_ISS/Semestr_1/ICK/second_test/rps_data_sample/paper/321.jpg\n",
                                                "INFO:tensorflow:Loading image /home/bankab/AGH_ISS/Semestr_1/ICK/second_test/rps_data_sample/paper/806.jpg\n",
                                                "INFO:tensorflow:Loading image /home/bankab/AGH_ISS/Semestr_1/ICK/second_test/rps_data_sample/scissors/60.jpg\n",
                                                "INFO:tensorflow:Loading image /home/bankab/AGH_ISS/Semestr_1/ICK/second_test/rps_data_sample/none/1031.jpg\n",
                                                "INFO:tensorflow:Loading image /home/bankab/AGH_ISS/Semestr_1/ICK/second_test/rps_data_sample/rock/868.jpg\n",
                                                "INFO:tensorflow:Loading image /home/bankab/AGH_ISS/Semestr_1/ICK/second_test/rps_data_sample/none/1041.jpg\n",
                                                "INFO:tensorflow:Loading image /home/bankab/AGH_ISS/Semestr_1/ICK/second_test/rps_data_sample/rock/796.jpg\n",
                                                "INFO:tensorflow:Loading image /home/bankab/AGH_ISS/Semestr_1/ICK/second_test/rps_data_sample/rock/904.jpg\n",
                                                "INFO:tensorflow:Loading image /home/bankab/AGH_ISS/Semestr_1/ICK/second_test/rps_data_sample/scissors/232.jpg\n",
                                                "INFO:tensorflow:Loading image /home/bankab/AGH_ISS/Semestr_1/ICK/second_test/rps_data_sample/paper/744.jpg\n",
                                                "INFO:tensorflow:Loading image /home/bankab/AGH_ISS/Semestr_1/ICK/second_test/rps_data_sample/paper/103.jpg\n",
                                                "INFO:tensorflow:Loading image /home/bankab/AGH_ISS/Semestr_1/ICK/second_test/rps_data_sample/paper/465.jpg\n",
                                                "INFO:tensorflow:Loading image /home/bankab/AGH_ISS/Semestr_1/ICK/second_test/rps_data_sample/scissors/878.jpg\n",
                                                "INFO:tensorflow:Loading image /home/bankab/AGH_ISS/Semestr_1/ICK/second_test/rps_data_sample/scissors/954.jpg\n",
                                                "INFO:tensorflow:Loading image /home/bankab/AGH_ISS/Semestr_1/ICK/second_test/rps_data_sample/scissors/531.jpg\n",
                                                "INFO:tensorflow:Loading image /home/bankab/AGH_ISS/Semestr_1/ICK/second_test/rps_data_sample/paper/539.jpg\n",
                                                "INFO:tensorflow:Loading image /home/bankab/AGH_ISS/Semestr_1/ICK/second_test/rps_data_sample/rock/1.jpg\n",
                                                "INFO:tensorflow:Loading image /home/bankab/AGH_ISS/Semestr_1/ICK/second_test/rps_data_sample/scissors/595.jpg\n",
                                                "INFO:tensorflow:Loading image /home/bankab/AGH_ISS/Semestr_1/ICK/second_test/rps_data_sample/rock/854.jpg\n",
                                                "INFO:tensorflow:Loading image /home/bankab/AGH_ISS/Semestr_1/ICK/second_test/rps_data_sample/none/39.jpg\n",
                                                "INFO:tensorflow:Loading image /home/bankab/AGH_ISS/Semestr_1/ICK/second_test/rps_data_sample/rock/546.jpg\n",
                                                "INFO:tensorflow:Loading image /home/bankab/AGH_ISS/Semestr_1/ICK/second_test/rps_data_sample/rock/363.jpg\n",
                                                "INFO:tensorflow:Loading image /home/bankab/AGH_ISS/Semestr_1/ICK/second_test/rps_data_sample/none/704.jpg\n",
                                                "INFO:tensorflow:Loading image /home/bankab/AGH_ISS/Semestr_1/ICK/second_test/rps_data_sample/rock/133.jpg\n",
                                                "INFO:tensorflow:Loading image /home/bankab/AGH_ISS/Semestr_1/ICK/second_test/rps_data_sample/scissors/70.jpg\n",
                                                "INFO:tensorflow:Loading image /home/bankab/AGH_ISS/Semestr_1/ICK/second_test/rps_data_sample/paper/680.jpg\n",
                                                "INFO:tensorflow:Loading image /home/bankab/AGH_ISS/Semestr_1/ICK/second_test/rps_data_sample/rock/784.jpg\n",
                                                "INFO:tensorflow:Loading image /home/bankab/AGH_ISS/Semestr_1/ICK/second_test/rps_data_sample/paper/879.jpg\n",
                                                "INFO:tensorflow:Loading image /home/bankab/AGH_ISS/Semestr_1/ICK/second_test/rps_data_sample/paper/847.jpg\n",
                                                "INFO:tensorflow:Loading image /home/bankab/AGH_ISS/Semestr_1/ICK/second_test/rps_data_sample/paper/791.jpg\n",
                                                "INFO:tensorflow:Loading image /home/bankab/AGH_ISS/Semestr_1/ICK/second_test/rps_data_sample/rock/894.jpg\n",
                                                "INFO:tensorflow:Loading image /home/bankab/AGH_ISS/Semestr_1/ICK/second_test/rps_data_sample/none/122.jpg\n",
                                                "INFO:tensorflow:Loading image /home/bankab/AGH_ISS/Semestr_1/ICK/second_test/rps_data_sample/none/957.jpg\n",
                                                "INFO:tensorflow:Loading image /home/bankab/AGH_ISS/Semestr_1/ICK/second_test/rps_data_sample/paper/51.jpg\n",
                                                "INFO:tensorflow:Loading image /home/bankab/AGH_ISS/Semestr_1/ICK/second_test/rps_data_sample/none/1657.jpg\n",
                                                "INFO:tensorflow:Loading image /home/bankab/AGH_ISS/Semestr_1/ICK/second_test/rps_data_sample/rock/778.jpg\n",
                                                "INFO:tensorflow:Loading image /home/bankab/AGH_ISS/Semestr_1/ICK/second_test/rps_data_sample/paper/531.jpg\n",
                                                "INFO:tensorflow:Loading image /home/bankab/AGH_ISS/Semestr_1/ICK/second_test/rps_data_sample/paper/505.jpg\n",
                                                "INFO:tensorflow:Loading image /home/bankab/AGH_ISS/Semestr_1/ICK/second_test/rps_data_sample/paper/269.jpg\n",
                                                "INFO:tensorflow:Loading image /home/bankab/AGH_ISS/Semestr_1/ICK/second_test/rps_data_sample/rock/427.jpg\n",
                                                "INFO:tensorflow:Loading image /home/bankab/AGH_ISS/Semestr_1/ICK/second_test/rps_data_sample/paper/483.jpg\n",
                                                "INFO:tensorflow:Loading image /home/bankab/AGH_ISS/Semestr_1/ICK/second_test/rps_data_sample/scissors/550.jpg\n",
                                                "INFO:tensorflow:Loading image /home/bankab/AGH_ISS/Semestr_1/ICK/second_test/rps_data_sample/paper/170.jpg\n",
                                                "INFO:tensorflow:Loading image /home/bankab/AGH_ISS/Semestr_1/ICK/second_test/rps_data_sample/scissors/184.jpg\n",
                                                "INFO:tensorflow:Loading image /home/bankab/AGH_ISS/Semestr_1/ICK/second_test/rps_data_sample/none/1609.jpg\n",
                                                "INFO:tensorflow:Loading image /home/bankab/AGH_ISS/Semestr_1/ICK/second_test/rps_data_sample/scissors/819.jpg\n",
                                                "INFO:tensorflow:Loading image /home/bankab/AGH_ISS/Semestr_1/ICK/second_test/rps_data_sample/rock/234.jpg\n",
                                                "INFO:tensorflow:Loading image /home/bankab/AGH_ISS/Semestr_1/ICK/second_test/rps_data_sample/none/1890.jpg\n",
                                                "INFO:tensorflow:Loading image /home/bankab/AGH_ISS/Semestr_1/ICK/second_test/rps_data_sample/scissors/129.jpg\n",
                                                "INFO:tensorflow:Loading image /home/bankab/AGH_ISS/Semestr_1/ICK/second_test/rps_data_sample/rock/771.jpg\n",
                                                "INFO:tensorflow:Loading image /home/bankab/AGH_ISS/Semestr_1/ICK/second_test/rps_data_sample/paper/658.jpg\n",
                                                "INFO:tensorflow:Loading image /home/bankab/AGH_ISS/Semestr_1/ICK/second_test/rps_data_sample/none/60.jpg\n",
                                                "INFO:tensorflow:Loading image /home/bankab/AGH_ISS/Semestr_1/ICK/second_test/rps_data_sample/paper/973.jpg\n",
                                                "INFO:tensorflow:Loading image /home/bankab/AGH_ISS/Semestr_1/ICK/second_test/rps_data_sample/scissors/208.jpg\n",
                                                "INFO:tensorflow:Loading image /home/bankab/AGH_ISS/Semestr_1/ICK/second_test/rps_data_sample/rock/537.jpg\n",
                                                "INFO:tensorflow:Loading image /home/bankab/AGH_ISS/Semestr_1/ICK/second_test/rps_data_sample/scissors/338.jpg\n",
                                                "INFO:tensorflow:Loading image /home/bankab/AGH_ISS/Semestr_1/ICK/second_test/rps_data_sample/paper/690.jpg\n",
                                                "INFO:tensorflow:Loading image /home/bankab/AGH_ISS/Semestr_1/ICK/second_test/rps_data_sample/rock/320.jpg\n",
                                                "INFO:tensorflow:Loading image /home/bankab/AGH_ISS/Semestr_1/ICK/second_test/rps_data_sample/none/1189.jpg\n",
                                                "INFO:tensorflow:Loading image /home/bankab/AGH_ISS/Semestr_1/ICK/second_test/rps_data_sample/rock/851.jpg\n",
                                                "INFO:tensorflow:Loading image /home/bankab/AGH_ISS/Semestr_1/ICK/second_test/rps_data_sample/rock/223.jpg\n",
                                                "INFO:tensorflow:Loading image /home/bankab/AGH_ISS/Semestr_1/ICK/second_test/rps_data_sample/scissors/428.jpg\n",
                                                "INFO:tensorflow:Loading image /home/bankab/AGH_ISS/Semestr_1/ICK/second_test/rps_data_sample/rock/318.jpg\n",
                                                "INFO:tensorflow:Loading image /home/bankab/AGH_ISS/Semestr_1/ICK/second_test/rps_data_sample/paper/601.jpg\n",
                                                "INFO:tensorflow:Loading image /home/bankab/AGH_ISS/Semestr_1/ICK/second_test/rps_data_sample/scissors/596.jpg\n",
                                                "INFO:tensorflow:Loading image /home/bankab/AGH_ISS/Semestr_1/ICK/second_test/rps_data_sample/paper/80.jpg\n",
                                                "INFO:tensorflow:Loading image /home/bankab/AGH_ISS/Semestr_1/ICK/second_test/rps_data_sample/paper/165.jpg\n",
                                                "INFO:tensorflow:Loading image /home/bankab/AGH_ISS/Semestr_1/ICK/second_test/rps_data_sample/none/1823.jpg\n",
                                                "INFO:tensorflow:Loading image /home/bankab/AGH_ISS/Semestr_1/ICK/second_test/rps_data_sample/none/1255.jpg\n",
                                                "INFO:tensorflow:Loading image /home/bankab/AGH_ISS/Semestr_1/ICK/second_test/rps_data_sample/scissors/684.jpg\n",
                                                "INFO:tensorflow:Loading image /home/bankab/AGH_ISS/Semestr_1/ICK/second_test/rps_data_sample/none/44.jpg\n",
                                                "INFO:tensorflow:Loading image /home/bankab/AGH_ISS/Semestr_1/ICK/second_test/rps_data_sample/paper/91.jpg\n",
                                                "INFO:tensorflow:Loading image /home/bankab/AGH_ISS/Semestr_1/ICK/second_test/rps_data_sample/none/1885.jpg\n",
                                                "INFO:tensorflow:Loading image /home/bankab/AGH_ISS/Semestr_1/ICK/second_test/rps_data_sample/paper/423.jpg\n",
                                                "INFO:tensorflow:Loading image /home/bankab/AGH_ISS/Semestr_1/ICK/second_test/rps_data_sample/rock/32.jpg\n",
                                                "INFO:tensorflow:Loading image /home/bankab/AGH_ISS/Semestr_1/ICK/second_test/rps_data_sample/scissors/589.jpg\n",
                                                "INFO:tensorflow:Loading image /home/bankab/AGH_ISS/Semestr_1/ICK/second_test/rps_data_sample/rock/88.jpg\n",
                                                "INFO:tensorflow:Loading image /home/bankab/AGH_ISS/Semestr_1/ICK/second_test/rps_data_sample/rock/672.jpg\n",
                                                "INFO:tensorflow:Loading image /home/bankab/AGH_ISS/Semestr_1/ICK/second_test/rps_data_sample/scissors/394.jpg\n",
                                                "INFO:tensorflow:Loading image /home/bankab/AGH_ISS/Semestr_1/ICK/second_test/rps_data_sample/rock/635.jpg\n",
                                                "INFO:tensorflow:Loading image /home/bankab/AGH_ISS/Semestr_1/ICK/second_test/rps_data_sample/paper/811.jpg\n",
                                                "INFO:tensorflow:Loading image /home/bankab/AGH_ISS/Semestr_1/ICK/second_test/rps_data_sample/none/229.jpg\n",
                                                "INFO:tensorflow:Loading image /home/bankab/AGH_ISS/Semestr_1/ICK/second_test/rps_data_sample/paper/504.jpg\n",
                                                "INFO:tensorflow:Loading image /home/bankab/AGH_ISS/Semestr_1/ICK/second_test/rps_data_sample/scissors/604.jpg\n",
                                                "INFO:tensorflow:Loading image /home/bankab/AGH_ISS/Semestr_1/ICK/second_test/rps_data_sample/none/1412.jpg\n",
                                                "INFO:tensorflow:Loading image /home/bankab/AGH_ISS/Semestr_1/ICK/second_test/rps_data_sample/none/1134.jpg\n",
                                                "INFO:tensorflow:Loading image /home/bankab/AGH_ISS/Semestr_1/ICK/second_test/rps_data_sample/scissors/100.jpg\n",
                                                "INFO:tensorflow:Loading image /home/bankab/AGH_ISS/Semestr_1/ICK/second_test/rps_data_sample/rock/290.jpg\n",
                                                "INFO:tensorflow:Loading image /home/bankab/AGH_ISS/Semestr_1/ICK/second_test/rps_data_sample/rock/186.jpg\n",
                                                "INFO:tensorflow:Loading image /home/bankab/AGH_ISS/Semestr_1/ICK/second_test/rps_data_sample/scissors/382.jpg\n",
                                                "INFO:tensorflow:Loading image /home/bankab/AGH_ISS/Semestr_1/ICK/second_test/rps_data_sample/scissors/49.jpg\n",
                                                "INFO:tensorflow:Loading image /home/bankab/AGH_ISS/Semestr_1/ICK/second_test/rps_data_sample/scissors/306.jpg\n",
                                                "INFO:tensorflow:Loading image /home/bankab/AGH_ISS/Semestr_1/ICK/second_test/rps_data_sample/paper/818.jpg\n",
                                                "INFO:tensorflow:Loading image /home/bankab/AGH_ISS/Semestr_1/ICK/second_test/rps_data_sample/rock/967.jpg\n",
                                                "INFO:tensorflow:Loading image /home/bankab/AGH_ISS/Semestr_1/ICK/second_test/rps_data_sample/none/292.jpg\n",
                                                "INFO:tensorflow:Loading image /home/bankab/AGH_ISS/Semestr_1/ICK/second_test/rps_data_sample/none/1643.jpg\n",
                                                "INFO:tensorflow:Loading image /home/bankab/AGH_ISS/Semestr_1/ICK/second_test/rps_data_sample/scissors/800.jpg\n",
                                                "INFO:tensorflow:Loading image /home/bankab/AGH_ISS/Semestr_1/ICK/second_test/rps_data_sample/rock/302.jpg\n",
                                                "INFO:tensorflow:Loading image /home/bankab/AGH_ISS/Semestr_1/ICK/second_test/rps_data_sample/paper/919.jpg\n",
                                                "INFO:tensorflow:Loading image /home/bankab/AGH_ISS/Semestr_1/ICK/second_test/rps_data_sample/rock/625.jpg\n",
                                                "INFO:tensorflow:Loading image /home/bankab/AGH_ISS/Semestr_1/ICK/second_test/rps_data_sample/none/239.jpg\n",
                                                "INFO:tensorflow:Loading image /home/bankab/AGH_ISS/Semestr_1/ICK/second_test/rps_data_sample/scissors/705.jpg\n",
                                                "INFO:tensorflow:Loading image /home/bankab/AGH_ISS/Semestr_1/ICK/second_test/rps_data_sample/rock/687.jpg\n",
                                                "INFO:tensorflow:Loading image /home/bankab/AGH_ISS/Semestr_1/ICK/second_test/rps_data_sample/rock/392.jpg\n",
                                                "INFO:tensorflow:Loading image /home/bankab/AGH_ISS/Semestr_1/ICK/second_test/rps_data_sample/scissors/301.jpg\n",
                                                "INFO:tensorflow:Loading image /home/bankab/AGH_ISS/Semestr_1/ICK/second_test/rps_data_sample/scissors/64.jpg\n",
                                                "INFO:tensorflow:Loading image /home/bankab/AGH_ISS/Semestr_1/ICK/second_test/rps_data_sample/none/794.jpg\n",
                                                "INFO:tensorflow:Loading image /home/bankab/AGH_ISS/Semestr_1/ICK/second_test/rps_data_sample/rock/764.jpg\n",
                                                "INFO:tensorflow:Loading image /home/bankab/AGH_ISS/Semestr_1/ICK/second_test/rps_data_sample/scissors/610.jpg\n",
                                                "INFO:tensorflow:Loading image /home/bankab/AGH_ISS/Semestr_1/ICK/second_test/rps_data_sample/paper/192.jpg\n",
                                                "INFO:tensorflow:Loading image /home/bankab/AGH_ISS/Semestr_1/ICK/second_test/rps_data_sample/rock/309.jpg\n",
                                                "INFO:tensorflow:Loading image /home/bankab/AGH_ISS/Semestr_1/ICK/second_test/rps_data_sample/none/1627.jpg\n",
                                                "INFO:tensorflow:Loading image /home/bankab/AGH_ISS/Semestr_1/ICK/second_test/rps_data_sample/none/657.jpg\n",
                                                "INFO:tensorflow:Loading image /home/bankab/AGH_ISS/Semestr_1/ICK/second_test/rps_data_sample/paper/194.jpg\n",
                                                "INFO:tensorflow:Loading image /home/bankab/AGH_ISS/Semestr_1/ICK/second_test/rps_data_sample/scissors/927.jpg\n",
                                                "INFO:tensorflow:Loading image /home/bankab/AGH_ISS/Semestr_1/ICK/second_test/rps_data_sample/scissors/56.jpg\n",
                                                "INFO:tensorflow:Loading image /home/bankab/AGH_ISS/Semestr_1/ICK/second_test/rps_data_sample/rock/238.jpg\n",
                                                "INFO:tensorflow:Loading image /home/bankab/AGH_ISS/Semestr_1/ICK/second_test/rps_data_sample/none/1650.jpg\n",
                                                "INFO:tensorflow:Loading image /home/bankab/AGH_ISS/Semestr_1/ICK/second_test/rps_data_sample/none/249.jpg\n",
                                                "INFO:tensorflow:Loading image /home/bankab/AGH_ISS/Semestr_1/ICK/second_test/rps_data_sample/rock/621.jpg\n",
                                                "INFO:tensorflow:Loading image /home/bankab/AGH_ISS/Semestr_1/ICK/second_test/rps_data_sample/rock/193.jpg\n",
                                                "INFO:tensorflow:Loading image /home/bankab/AGH_ISS/Semestr_1/ICK/second_test/rps_data_sample/paper/901.jpg\n",
                                                "INFO:tensorflow:Loading image /home/bankab/AGH_ISS/Semestr_1/ICK/second_test/rps_data_sample/scissors/293.jpg\n",
                                                "INFO:tensorflow:Loading image /home/bankab/AGH_ISS/Semestr_1/ICK/second_test/rps_data_sample/paper/119.jpg\n",
                                                "INFO:tensorflow:Loading image /home/bankab/AGH_ISS/Semestr_1/ICK/second_test/rps_data_sample/none/729.jpg\n",
                                                "INFO:tensorflow:Loading image /home/bankab/AGH_ISS/Semestr_1/ICK/second_test/rps_data_sample/rock/942.jpg\n",
                                                "INFO:tensorflow:Loading image /home/bankab/AGH_ISS/Semestr_1/ICK/second_test/rps_data_sample/paper/628.jpg\n",
                                                "INFO:tensorflow:Loading image /home/bankab/AGH_ISS/Semestr_1/ICK/second_test/rps_data_sample/none/1469.jpg\n",
                                                "INFO:tensorflow:Loading image /home/bankab/AGH_ISS/Semestr_1/ICK/second_test/rps_data_sample/paper/941.jpg\n",
                                                "INFO:tensorflow:Loading image /home/bankab/AGH_ISS/Semestr_1/ICK/second_test/rps_data_sample/scissors/196.jpg\n",
                                                "INFO:tensorflow:Loading image /home/bankab/AGH_ISS/Semestr_1/ICK/second_test/rps_data_sample/paper/918.jpg\n",
                                                "INFO:tensorflow:Loading image /home/bankab/AGH_ISS/Semestr_1/ICK/second_test/rps_data_sample/none/1633.jpg\n",
                                                "INFO:tensorflow:Loading image /home/bankab/AGH_ISS/Semestr_1/ICK/second_test/rps_data_sample/paper/955.jpg\n",
                                                "INFO:tensorflow:Loading image /home/bankab/AGH_ISS/Semestr_1/ICK/second_test/rps_data_sample/scissors/285.jpg\n",
                                                "INFO:tensorflow:Loading image /home/bankab/AGH_ISS/Semestr_1/ICK/second_test/rps_data_sample/scissors/614.jpg\n",
                                                "INFO:tensorflow:Loading image /home/bankab/AGH_ISS/Semestr_1/ICK/second_test/rps_data_sample/rock/348.jpg\n",
                                                "INFO:tensorflow:Loading image /home/bankab/AGH_ISS/Semestr_1/ICK/second_test/rps_data_sample/none/1119.jpg\n",
                                                "INFO:tensorflow:Loading image /home/bankab/AGH_ISS/Semestr_1/ICK/second_test/rps_data_sample/scissors/580.jpg\n",
                                                "INFO:tensorflow:Loading image /home/bankab/AGH_ISS/Semestr_1/ICK/second_test/rps_data_sample/scissors/482.jpg\n",
                                                "INFO:tensorflow:Loading image /home/bankab/AGH_ISS/Semestr_1/ICK/second_test/rps_data_sample/scissors/871.jpg\n",
                                                "INFO:tensorflow:Loading image /home/bankab/AGH_ISS/Semestr_1/ICK/second_test/rps_data_sample/rock/351.jpg\n",
                                                "INFO:tensorflow:Loading image /home/bankab/AGH_ISS/Semestr_1/ICK/second_test/rps_data_sample/paper/76.jpg\n",
                                                "INFO:tensorflow:Loading image /home/bankab/AGH_ISS/Semestr_1/ICK/second_test/rps_data_sample/rock/617.jpg\n",
                                                "INFO:tensorflow:Loading image /home/bankab/AGH_ISS/Semestr_1/ICK/second_test/rps_data_sample/none/1424.jpg\n",
                                                "INFO:tensorflow:Loading image /home/bankab/AGH_ISS/Semestr_1/ICK/second_test/rps_data_sample/rock/286.jpg\n",
                                                "INFO:tensorflow:Loading image /home/bankab/AGH_ISS/Semestr_1/ICK/second_test/rps_data_sample/rock/398.jpg\n",
                                                "INFO:tensorflow:Loading image /home/bankab/AGH_ISS/Semestr_1/ICK/second_test/rps_data_sample/none/327.jpg\n",
                                                "INFO:tensorflow:Loading image /home/bankab/AGH_ISS/Semestr_1/ICK/second_test/rps_data_sample/scissors/559.jpg\n",
                                                "INFO:tensorflow:Loading image /home/bankab/AGH_ISS/Semestr_1/ICK/second_test/rps_data_sample/scissors/930.jpg\n",
                                                "INFO:tensorflow:Loading image /home/bankab/AGH_ISS/Semestr_1/ICK/second_test/rps_data_sample/paper/865.jpg\n",
                                                "INFO:tensorflow:Loading image /home/bankab/AGH_ISS/Semestr_1/ICK/second_test/rps_data_sample/rock/776.jpg\n",
                                                "INFO:tensorflow:Loading image /home/bankab/AGH_ISS/Semestr_1/ICK/second_test/rps_data_sample/scissors/527.jpg\n",
                                                "INFO:tensorflow:Loading image /home/bankab/AGH_ISS/Semestr_1/ICK/second_test/rps_data_sample/rock/428.jpg\n",
                                                "INFO:tensorflow:Loading image /home/bankab/AGH_ISS/Semestr_1/ICK/second_test/rps_data_sample/none/756.jpg\n",
                                                "INFO:tensorflow:Loading image /home/bankab/AGH_ISS/Semestr_1/ICK/second_test/rps_data_sample/none/1048.jpg\n",
                                                "INFO:tensorflow:Loading image /home/bankab/AGH_ISS/Semestr_1/ICK/second_test/rps_data_sample/scissors/147.jpg\n",
                                                "INFO:tensorflow:Loading image /home/bankab/AGH_ISS/Semestr_1/ICK/second_test/rps_data_sample/none/334.jpg\n",
                                                "INFO:tensorflow:Loading image /home/bankab/AGH_ISS/Semestr_1/ICK/second_test/rps_data_sample/rock/750.jpg\n",
                                                "INFO:tensorflow:Loading image /home/bankab/AGH_ISS/Semestr_1/ICK/second_test/rps_data_sample/scissors/925.jpg\n",
                                                "INFO:tensorflow:Loading image /home/bankab/AGH_ISS/Semestr_1/ICK/second_test/rps_data_sample/none/1534.jpg\n",
                                                "INFO:tensorflow:Loading image /home/bankab/AGH_ISS/Semestr_1/ICK/second_test/rps_data_sample/scissors/400.jpg\n",
                                                "INFO:tensorflow:Loading image /home/bankab/AGH_ISS/Semestr_1/ICK/second_test/rps_data_sample/none/9.jpg\n",
                                                "INFO:tensorflow:Loading image /home/bankab/AGH_ISS/Semestr_1/ICK/second_test/rps_data_sample/rock/441.jpg\n",
                                                "INFO:tensorflow:Loading image /home/bankab/AGH_ISS/Semestr_1/ICK/second_test/rps_data_sample/rock/565.jpg\n",
                                                "INFO:tensorflow:Loading image /home/bankab/AGH_ISS/Semestr_1/ICK/second_test/rps_data_sample/rock/896.jpg\n",
                                                "INFO:tensorflow:Loading image /home/bankab/AGH_ISS/Semestr_1/ICK/second_test/rps_data_sample/scissors/50.jpg\n",
                                                "INFO:tensorflow:Loading image /home/bankab/AGH_ISS/Semestr_1/ICK/second_test/rps_data_sample/paper/406.jpg\n",
                                                "INFO:tensorflow:Loading image /home/bankab/AGH_ISS/Semestr_1/ICK/second_test/rps_data_sample/none/590.jpg\n",
                                                "INFO:tensorflow:Loading image /home/bankab/AGH_ISS/Semestr_1/ICK/second_test/rps_data_sample/paper/339.jpg\n",
                                                "INFO:tensorflow:Loading image /home/bankab/AGH_ISS/Semestr_1/ICK/second_test/rps_data_sample/paper/971.jpg\n",
                                                "INFO:tensorflow:Loading image /home/bankab/AGH_ISS/Semestr_1/ICK/second_test/rps_data_sample/none/820.jpg\n",
                                                "INFO:tensorflow:Loading image /home/bankab/AGH_ISS/Semestr_1/ICK/second_test/rps_data_sample/none/823.jpg\n",
                                                "INFO:tensorflow:Loading image /home/bankab/AGH_ISS/Semestr_1/ICK/second_test/rps_data_sample/rock/891.jpg\n",
                                                "INFO:tensorflow:Loading image /home/bankab/AGH_ISS/Semestr_1/ICK/second_test/rps_data_sample/rock/372.jpg\n",
                                                "INFO:tensorflow:Loading image /home/bankab/AGH_ISS/Semestr_1/ICK/second_test/rps_data_sample/paper/771.jpg\n",
                                                "INFO:tensorflow:Loading image /home/bankab/AGH_ISS/Semestr_1/ICK/second_test/rps_data_sample/rock/709.jpg\n",
                                                "INFO:tensorflow:Loading image /home/bankab/AGH_ISS/Semestr_1/ICK/second_test/rps_data_sample/paper/25.jpg\n",
                                                "INFO:tensorflow:Loading image /home/bankab/AGH_ISS/Semestr_1/ICK/second_test/rps_data_sample/none/520.jpg\n",
                                                "INFO:tensorflow:Loading image /home/bankab/AGH_ISS/Semestr_1/ICK/second_test/rps_data_sample/paper/529.jpg\n",
                                                "INFO:tensorflow:Loading image /home/bankab/AGH_ISS/Semestr_1/ICK/second_test/rps_data_sample/paper/146.jpg\n",
                                                "INFO:tensorflow:Loading image /home/bankab/AGH_ISS/Semestr_1/ICK/second_test/rps_data_sample/paper/884.jpg\n",
                                                "INFO:tensorflow:Loading image /home/bankab/AGH_ISS/Semestr_1/ICK/second_test/rps_data_sample/paper/7.jpg\n",
                                                "INFO:tensorflow:Loading image /home/bankab/AGH_ISS/Semestr_1/ICK/second_test/rps_data_sample/paper/37.jpg\n",
                                                "INFO:tensorflow:Loading image /home/bankab/AGH_ISS/Semestr_1/ICK/second_test/rps_data_sample/rock/872.jpg\n",
                                                "INFO:tensorflow:Loading image /home/bankab/AGH_ISS/Semestr_1/ICK/second_test/rps_data_sample/rock/915.jpg\n",
                                                "INFO:tensorflow:Loading image /home/bankab/AGH_ISS/Semestr_1/ICK/second_test/rps_data_sample/paper/142.jpg\n",
                                                "INFO:tensorflow:Loading image /home/bankab/AGH_ISS/Semestr_1/ICK/second_test/rps_data_sample/scissors/104.jpg\n",
                                                "INFO:tensorflow:Loading image /home/bankab/AGH_ISS/Semestr_1/ICK/second_test/rps_data_sample/scissors/269.jpg\n",
                                                "INFO:tensorflow:Loading image /home/bankab/AGH_ISS/Semestr_1/ICK/second_test/rps_data_sample/rock/675.jpg\n",
                                                "INFO:tensorflow:Loading image /home/bankab/AGH_ISS/Semestr_1/ICK/second_test/rps_data_sample/none/800.jpg\n",
                                                "INFO:tensorflow:Loading image /home/bankab/AGH_ISS/Semestr_1/ICK/second_test/rps_data_sample/scissors/7.jpg\n",
                                                "INFO:tensorflow:Loading image /home/bankab/AGH_ISS/Semestr_1/ICK/second_test/rps_data_sample/none/394.jpg\n",
                                                "INFO:tensorflow:Loading image /home/bankab/AGH_ISS/Semestr_1/ICK/second_test/rps_data_sample/paper/935.jpg\n",
                                                "INFO:tensorflow:Loading image /home/bankab/AGH_ISS/Semestr_1/ICK/second_test/rps_data_sample/rock/376.jpg\n",
                                                "INFO:tensorflow:Loading image /home/bankab/AGH_ISS/Semestr_1/ICK/second_test/rps_data_sample/rock/47.jpg\n",
                                                "INFO:tensorflow:Loading image /home/bankab/AGH_ISS/Semestr_1/ICK/second_test/rps_data_sample/paper/461.jpg\n",
                                                "INFO:tensorflow:Loading image /home/bankab/AGH_ISS/Semestr_1/ICK/second_test/rps_data_sample/scissors/720.jpg\n",
                                                "INFO:tensorflow:Loading image /home/bankab/AGH_ISS/Semestr_1/ICK/second_test/rps_data_sample/scissors/942.jpg\n",
                                                "INFO:tensorflow:Loading image /home/bankab/AGH_ISS/Semestr_1/ICK/second_test/rps_data_sample/paper/620.jpg\n",
                                                "INFO:tensorflow:Loading image /home/bankab/AGH_ISS/Semestr_1/ICK/second_test/rps_data_sample/scissors/463.jpg\n",
                                                "INFO:tensorflow:Loading image /home/bankab/AGH_ISS/Semestr_1/ICK/second_test/rps_data_sample/rock/567.jpg\n",
                                                "INFO:tensorflow:Loading image /home/bankab/AGH_ISS/Semestr_1/ICK/second_test/rps_data_sample/paper/855.jpg\n",
                                                "INFO:tensorflow:Loading image /home/bankab/AGH_ISS/Semestr_1/ICK/second_test/rps_data_sample/paper/72.jpg\n",
                                                "INFO:tensorflow:Loading image /home/bankab/AGH_ISS/Semestr_1/ICK/second_test/rps_data_sample/scissors/264.jpg\n",
                                                "INFO:tensorflow:Loading image /home/bankab/AGH_ISS/Semestr_1/ICK/second_test/rps_data_sample/scissors/173.jpg\n",
                                                "INFO:tensorflow:Loading image /home/bankab/AGH_ISS/Semestr_1/ICK/second_test/rps_data_sample/none/1000.jpg\n",
                                                "INFO:tensorflow:Loading image /home/bankab/AGH_ISS/Semestr_1/ICK/second_test/rps_data_sample/scissors/534.jpg\n",
                                                "INFO:tensorflow:Loading image /home/bankab/AGH_ISS/Semestr_1/ICK/second_test/rps_data_sample/paper/395.jpg\n",
                                                "INFO:tensorflow:Loading image /home/bankab/AGH_ISS/Semestr_1/ICK/second_test/rps_data_sample/paper/89.jpg\n",
                                                "INFO:tensorflow:Loading image /home/bankab/AGH_ISS/Semestr_1/ICK/second_test/rps_data_sample/rock/523.jpg\n",
                                                "INFO:tensorflow:Loading image /home/bankab/AGH_ISS/Semestr_1/ICK/second_test/rps_data_sample/scissors/631.jpg\n",
                                                "INFO:tensorflow:Loading image /home/bankab/AGH_ISS/Semestr_1/ICK/second_test/rps_data_sample/rock/45.jpg\n",
                                                "INFO:tensorflow:Loading image /home/bankab/AGH_ISS/Semestr_1/ICK/second_test/rps_data_sample/rock/592.jpg\n",
                                                "INFO:tensorflow:Loading image /home/bankab/AGH_ISS/Semestr_1/ICK/second_test/rps_data_sample/rock/513.jpg\n",
                                                "INFO:tensorflow:Loading image /home/bankab/AGH_ISS/Semestr_1/ICK/second_test/rps_data_sample/scissors/278.jpg\n",
                                                "INFO:tensorflow:Loading image /home/bankab/AGH_ISS/Semestr_1/ICK/second_test/rps_data_sample/none/791.jpg\n",
                                                "INFO:tensorflow:Loading image /home/bankab/AGH_ISS/Semestr_1/ICK/second_test/rps_data_sample/paper/74.jpg\n",
                                                "INFO:tensorflow:Loading image /home/bankab/AGH_ISS/Semestr_1/ICK/second_test/rps_data_sample/rock/524.jpg\n",
                                                "INFO:tensorflow:Loading image /home/bankab/AGH_ISS/Semestr_1/ICK/second_test/rps_data_sample/scissors/764.jpg\n",
                                                "INFO:tensorflow:Loading image /home/bankab/AGH_ISS/Semestr_1/ICK/second_test/rps_data_sample/none/1416.jpg\n",
                                                "INFO:tensorflow:Loading image /home/bankab/AGH_ISS/Semestr_1/ICK/second_test/rps_data_sample/rock/560.jpg\n",
                                                "INFO:tensorflow:Loading image /home/bankab/AGH_ISS/Semestr_1/ICK/second_test/rps_data_sample/rock/168.jpg\n",
                                                "INFO:tensorflow:Loading image /home/bankab/AGH_ISS/Semestr_1/ICK/second_test/rps_data_sample/rock/360.jpg\n",
                                                "INFO:tensorflow:Loading image /home/bankab/AGH_ISS/Semestr_1/ICK/second_test/rps_data_sample/none/1488.jpg\n",
                                                "INFO:tensorflow:Loading image /home/bankab/AGH_ISS/Semestr_1/ICK/second_test/rps_data_sample/none/1552.jpg\n",
                                                "INFO:tensorflow:Loading image /home/bankab/AGH_ISS/Semestr_1/ICK/second_test/rps_data_sample/paper/887.jpg\n",
                                                "INFO:tensorflow:Loading image /home/bankab/AGH_ISS/Semestr_1/ICK/second_test/rps_data_sample/paper/306.jpg\n",
                                                "INFO:tensorflow:Loading image /home/bankab/AGH_ISS/Semestr_1/ICK/second_test/rps_data_sample/scissors/126.jpg\n",
                                                "INFO:tensorflow:Loading image /home/bankab/AGH_ISS/Semestr_1/ICK/second_test/rps_data_sample/scissors/436.jpg\n",
                                                "INFO:tensorflow:Loading image /home/bankab/AGH_ISS/Semestr_1/ICK/second_test/rps_data_sample/rock/922.jpg\n",
                                                "INFO:tensorflow:Loading image /home/bankab/AGH_ISS/Semestr_1/ICK/second_test/rps_data_sample/paper/891.jpg\n",
                                                "INFO:tensorflow:Loading image /home/bankab/AGH_ISS/Semestr_1/ICK/second_test/rps_data_sample/rock/56.jpg\n",
                                                "INFO:tensorflow:Loading image /home/bankab/AGH_ISS/Semestr_1/ICK/second_test/rps_data_sample/paper/655.jpg\n",
                                                "INFO:tensorflow:Loading image /home/bankab/AGH_ISS/Semestr_1/ICK/second_test/rps_data_sample/none/1005.jpg\n",
                                                "INFO:tensorflow:Loading image /home/bankab/AGH_ISS/Semestr_1/ICK/second_test/rps_data_sample/paper/657.jpg\n",
                                                "INFO:tensorflow:Loading image /home/bankab/AGH_ISS/Semestr_1/ICK/second_test/rps_data_sample/scissors/289.jpg\n",
                                                "INFO:tensorflow:Loading image /home/bankab/AGH_ISS/Semestr_1/ICK/second_test/rps_data_sample/none/1878.jpg\n",
                                                "INFO:tensorflow:Loading image /home/bankab/AGH_ISS/Semestr_1/ICK/second_test/rps_data_sample/none/1521.jpg\n",
                                                "INFO:tensorflow:Loading image /home/bankab/AGH_ISS/Semestr_1/ICK/second_test/rps_data_sample/scissors/239.jpg\n",
                                                "INFO:tensorflow:Loading image /home/bankab/AGH_ISS/Semestr_1/ICK/second_test/rps_data_sample/none/1214.jpg\n",
                                                "INFO:tensorflow:Loading image /home/bankab/AGH_ISS/Semestr_1/ICK/second_test/rps_data_sample/rock/595.jpg\n",
                                                "INFO:tensorflow:Loading image /home/bankab/AGH_ISS/Semestr_1/ICK/second_test/rps_data_sample/none/941.jpg\n",
                                                "INFO:tensorflow:Loading image /home/bankab/AGH_ISS/Semestr_1/ICK/second_test/rps_data_sample/none/1101.jpg\n",
                                                "INFO:tensorflow:Loading image /home/bankab/AGH_ISS/Semestr_1/ICK/second_test/rps_data_sample/scissors/630.jpg\n",
                                                "INFO:tensorflow:Loading image /home/bankab/AGH_ISS/Semestr_1/ICK/second_test/rps_data_sample/scissors/28.jpg\n",
                                                "INFO:tensorflow:Loading image /home/bankab/AGH_ISS/Semestr_1/ICK/second_test/rps_data_sample/rock/875.jpg\n",
                                                "INFO:tensorflow:Loading image /home/bankab/AGH_ISS/Semestr_1/ICK/second_test/rps_data_sample/paper/236.jpg\n",
                                                "INFO:tensorflow:Loading image /home/bankab/AGH_ISS/Semestr_1/ICK/second_test/rps_data_sample/scissors/656.jpg\n",
                                                "INFO:tensorflow:Loading image /home/bankab/AGH_ISS/Semestr_1/ICK/second_test/rps_data_sample/paper/890.jpg\n",
                                                "INFO:tensorflow:Loading image /home/bankab/AGH_ISS/Semestr_1/ICK/second_test/rps_data_sample/paper/460.jpg\n",
                                                "INFO:tensorflow:Loading image /home/bankab/AGH_ISS/Semestr_1/ICK/second_test/rps_data_sample/scissors/866.jpg\n",
                                                "INFO:tensorflow:Loading image /home/bankab/AGH_ISS/Semestr_1/ICK/second_test/rps_data_sample/paper/846.jpg\n",
                                                "INFO:tensorflow:Loading image /home/bankab/AGH_ISS/Semestr_1/ICK/second_test/rps_data_sample/paper/701.jpg\n",
                                                "INFO:tensorflow:Loading image /home/bankab/AGH_ISS/Semestr_1/ICK/second_test/rps_data_sample/none/946.jpg\n",
                                                "INFO:tensorflow:Loading image /home/bankab/AGH_ISS/Semestr_1/ICK/second_test/rps_data_sample/none/1072.jpg\n",
                                                "INFO:tensorflow:Loading image /home/bankab/AGH_ISS/Semestr_1/ICK/second_test/rps_data_sample/paper/302.jpg\n",
                                                "INFO:tensorflow:Loading image /home/bankab/AGH_ISS/Semestr_1/ICK/second_test/rps_data_sample/paper/495.jpg\n",
                                                "INFO:tensorflow:Loading image /home/bankab/AGH_ISS/Semestr_1/ICK/second_test/rps_data_sample/rock/165.jpg\n",
                                                "INFO:tensorflow:Loading image /home/bankab/AGH_ISS/Semestr_1/ICK/second_test/rps_data_sample/scissors/798.jpg\n",
                                                "INFO:tensorflow:Loading image /home/bankab/AGH_ISS/Semestr_1/ICK/second_test/rps_data_sample/none/386.jpg\n",
                                                "INFO:tensorflow:Loading image /home/bankab/AGH_ISS/Semestr_1/ICK/second_test/rps_data_sample/rock/548.jpg\n",
                                                "INFO:tensorflow:Loading image /home/bankab/AGH_ISS/Semestr_1/ICK/second_test/rps_data_sample/none/1729.jpg\n",
                                                "INFO:tensorflow:Loading image /home/bankab/AGH_ISS/Semestr_1/ICK/second_test/rps_data_sample/rock/507.jpg\n",
                                                "INFO:tensorflow:Loading image /home/bankab/AGH_ISS/Semestr_1/ICK/second_test/rps_data_sample/none/802.jpg\n",
                                                "INFO:tensorflow:Loading image /home/bankab/AGH_ISS/Semestr_1/ICK/second_test/rps_data_sample/rock/328.jpg\n",
                                                "INFO:tensorflow:Loading image /home/bankab/AGH_ISS/Semestr_1/ICK/second_test/rps_data_sample/paper/143.jpg\n",
                                                "INFO:tensorflow:Loading image /home/bankab/AGH_ISS/Semestr_1/ICK/second_test/rps_data_sample/rock/329.jpg\n",
                                                "INFO:tensorflow:Loading image /home/bankab/AGH_ISS/Semestr_1/ICK/second_test/rps_data_sample/paper/179.jpg\n",
                                                "INFO:tensorflow:Loading image /home/bankab/AGH_ISS/Semestr_1/ICK/second_test/rps_data_sample/rock/945.jpg\n",
                                                "INFO:tensorflow:Loading image /home/bankab/AGH_ISS/Semestr_1/ICK/second_test/rps_data_sample/scissors/730.jpg\n",
                                                "INFO:tensorflow:Loading image /home/bankab/AGH_ISS/Semestr_1/ICK/second_test/rps_data_sample/none/1362.jpg\n",
                                                "INFO:tensorflow:Loading image /home/bankab/AGH_ISS/Semestr_1/ICK/second_test/rps_data_sample/rock/239.jpg\n",
                                                "INFO:tensorflow:Loading image /home/bankab/AGH_ISS/Semestr_1/ICK/second_test/rps_data_sample/none/1851.jpg\n",
                                                "INFO:tensorflow:Loading image /home/bankab/AGH_ISS/Semestr_1/ICK/second_test/rps_data_sample/rock/416.jpg\n",
                                                "INFO:tensorflow:Loading image /home/bankab/AGH_ISS/Semestr_1/ICK/second_test/rps_data_sample/none/252.jpg\n",
                                                "INFO:tensorflow:Loading image /home/bankab/AGH_ISS/Semestr_1/ICK/second_test/rps_data_sample/paper/282.jpg\n",
                                                "INFO:tensorflow:Loading image /home/bankab/AGH_ISS/Semestr_1/ICK/second_test/rps_data_sample/scissors/397.jpg\n",
                                                "INFO:tensorflow:Loading image /home/bankab/AGH_ISS/Semestr_1/ICK/second_test/rps_data_sample/none/255.jpg\n",
                                                "INFO:tensorflow:Loading image /home/bankab/AGH_ISS/Semestr_1/ICK/second_test/rps_data_sample/paper/77.jpg\n",
                                                "INFO:tensorflow:Loading image /home/bankab/AGH_ISS/Semestr_1/ICK/second_test/rps_data_sample/paper/401.jpg\n",
                                                "INFO:tensorflow:Loading image /home/bankab/AGH_ISS/Semestr_1/ICK/second_test/rps_data_sample/none/71.jpg\n",
                                                "INFO:tensorflow:Loading image /home/bankab/AGH_ISS/Semestr_1/ICK/second_test/rps_data_sample/scissors/122.jpg\n",
                                                "INFO:tensorflow:Loading image /home/bankab/AGH_ISS/Semestr_1/ICK/second_test/rps_data_sample/scissors/321.jpg\n",
                                                "INFO:tensorflow:Loading image /home/bankab/AGH_ISS/Semestr_1/ICK/second_test/rps_data_sample/none/735.jpg\n",
                                                "INFO:tensorflow:Loading image /home/bankab/AGH_ISS/Semestr_1/ICK/second_test/rps_data_sample/scissors/803.jpg\n",
                                                "INFO:tensorflow:Loading image /home/bankab/AGH_ISS/Semestr_1/ICK/second_test/rps_data_sample/none/363.jpg\n",
                                                "INFO:tensorflow:Loading image /home/bankab/AGH_ISS/Semestr_1/ICK/second_test/rps_data_sample/paper/158.jpg\n",
                                                "INFO:tensorflow:Loading image /home/bankab/AGH_ISS/Semestr_1/ICK/second_test/rps_data_sample/none/1033.jpg\n",
                                                "INFO:tensorflow:Loading image /home/bankab/AGH_ISS/Semestr_1/ICK/second_test/rps_data_sample/scissors/715.jpg\n",
                                                "INFO:tensorflow:Loading image /home/bankab/AGH_ISS/Semestr_1/ICK/second_test/rps_data_sample/paper/575.jpg\n",
                                                "INFO:tensorflow:Loading image /home/bankab/AGH_ISS/Semestr_1/ICK/second_test/rps_data_sample/scissors/602.jpg\n",
                                                "INFO:tensorflow:Loading image /home/bankab/AGH_ISS/Semestr_1/ICK/second_test/rps_data_sample/none/57.jpg\n",
                                                "INFO:tensorflow:Loading image /home/bankab/AGH_ISS/Semestr_1/ICK/second_test/rps_data_sample/scissors/45.jpg\n",
                                                "INFO:tensorflow:Loading image /home/bankab/AGH_ISS/Semestr_1/ICK/second_test/rps_data_sample/none/898.jpg\n",
                                                "INFO:tensorflow:Loading image /home/bankab/AGH_ISS/Semestr_1/ICK/second_test/rps_data_sample/paper/411.jpg\n",
                                                "INFO:tensorflow:Loading image /home/bankab/AGH_ISS/Semestr_1/ICK/second_test/rps_data_sample/paper/730.jpg\n",
                                                "INFO:tensorflow:Loading image /home/bankab/AGH_ISS/Semestr_1/ICK/second_test/rps_data_sample/none/1843.jpg\n",
                                                "INFO:tensorflow:Loading image /home/bankab/AGH_ISS/Semestr_1/ICK/second_test/rps_data_sample/rock/244.jpg\n",
                                                "INFO:tensorflow:Loading image /home/bankab/AGH_ISS/Semestr_1/ICK/second_test/rps_data_sample/none/1883.jpg\n",
                                                "INFO:tensorflow:Loading image /home/bankab/AGH_ISS/Semestr_1/ICK/second_test/rps_data_sample/scissors/670.jpg\n",
                                                "INFO:tensorflow:Loading image /home/bankab/AGH_ISS/Semestr_1/ICK/second_test/rps_data_sample/paper/594.jpg\n",
                                                "INFO:tensorflow:Loading image /home/bankab/AGH_ISS/Semestr_1/ICK/second_test/rps_data_sample/none/65.jpg\n",
                                                "INFO:tensorflow:Loading image /home/bankab/AGH_ISS/Semestr_1/ICK/second_test/rps_data_sample/none/1381.jpg\n",
                                                "INFO:tensorflow:Loading image /home/bankab/AGH_ISS/Semestr_1/ICK/second_test/rps_data_sample/paper/533.jpg\n",
                                                "INFO:tensorflow:Loading image /home/bankab/AGH_ISS/Semestr_1/ICK/second_test/rps_data_sample/none/1812.jpg\n",
                                                "INFO:tensorflow:Loading image /home/bankab/AGH_ISS/Semestr_1/ICK/second_test/rps_data_sample/scissors/119.jpg\n",
                                                "INFO:tensorflow:Loading image /home/bankab/AGH_ISS/Semestr_1/ICK/second_test/rps_data_sample/paper/898.jpg\n",
                                                "INFO:tensorflow:Loading image /home/bankab/AGH_ISS/Semestr_1/ICK/second_test/rps_data_sample/none/1244.jpg\n",
                                                "INFO:tensorflow:Loading image /home/bankab/AGH_ISS/Semestr_1/ICK/second_test/rps_data_sample/scissors/276.jpg\n",
                                                "INFO:tensorflow:Loading image /home/bankab/AGH_ISS/Semestr_1/ICK/second_test/rps_data_sample/none/193.jpg\n",
                                                "INFO:tensorflow:Loading image /home/bankab/AGH_ISS/Semestr_1/ICK/second_test/rps_data_sample/paper/276.jpg\n",
                                                "INFO:tensorflow:Loading image /home/bankab/AGH_ISS/Semestr_1/ICK/second_test/rps_data_sample/paper/394.jpg\n",
                                                "INFO:tensorflow:Loading image /home/bankab/AGH_ISS/Semestr_1/ICK/second_test/rps_data_sample/paper/18.jpg\n",
                                                "INFO:tensorflow:Loading image /home/bankab/AGH_ISS/Semestr_1/ICK/second_test/rps_data_sample/paper/319.jpg\n",
                                                "INFO:tensorflow:Loading image /home/bankab/AGH_ISS/Semestr_1/ICK/second_test/rps_data_sample/scissors/549.jpg\n",
                                                "INFO:tensorflow:Loading image /home/bankab/AGH_ISS/Semestr_1/ICK/second_test/rps_data_sample/paper/299.jpg\n",
                                                "INFO:tensorflow:Loading image /home/bankab/AGH_ISS/Semestr_1/ICK/second_test/rps_data_sample/paper/477.jpg\n",
                                                "INFO:tensorflow:Loading image /home/bankab/AGH_ISS/Semestr_1/ICK/second_test/rps_data_sample/none/955.jpg\n",
                                                "INFO:tensorflow:Loading image /home/bankab/AGH_ISS/Semestr_1/ICK/second_test/rps_data_sample/scissors/617.jpg\n",
                                                "INFO:tensorflow:Loading image /home/bankab/AGH_ISS/Semestr_1/ICK/second_test/rps_data_sample/scissors/117.jpg\n",
                                                "INFO:tensorflow:Loading image /home/bankab/AGH_ISS/Semestr_1/ICK/second_test/rps_data_sample/none/1814.jpg\n",
                                                "INFO:tensorflow:Loading image /home/bankab/AGH_ISS/Semestr_1/ICK/second_test/rps_data_sample/none/1198.jpg\n",
                                                "INFO:tensorflow:Loading image /home/bankab/AGH_ISS/Semestr_1/ICK/second_test/rps_data_sample/scissors/23.jpg\n",
                                                "INFO:tensorflow:Loading image /home/bankab/AGH_ISS/Semestr_1/ICK/second_test/rps_data_sample/paper/166.jpg\n",
                                                "INFO:tensorflow:Loading image /home/bankab/AGH_ISS/Semestr_1/ICK/second_test/rps_data_sample/paper/54.jpg\n",
                                                "INFO:tensorflow:Loading image /home/bankab/AGH_ISS/Semestr_1/ICK/second_test/rps_data_sample/none/136.jpg\n",
                                                "INFO:tensorflow:Loading image /home/bankab/AGH_ISS/Semestr_1/ICK/second_test/rps_data_sample/scissors/968.jpg\n",
                                                "INFO:tensorflow:Loading image /home/bankab/AGH_ISS/Semestr_1/ICK/second_test/rps_data_sample/rock/426.jpg\n",
                                                "INFO:tensorflow:Loading image /home/bankab/AGH_ISS/Semestr_1/ICK/second_test/rps_data_sample/scissors/853.jpg\n",
                                                "INFO:tensorflow:Loading image /home/bankab/AGH_ISS/Semestr_1/ICK/second_test/rps_data_sample/scissors/856.jpg\n",
                                                "INFO:tensorflow:Loading image /home/bankab/AGH_ISS/Semestr_1/ICK/second_test/rps_data_sample/rock/818.jpg\n",
                                                "INFO:tensorflow:Loading image /home/bankab/AGH_ISS/Semestr_1/ICK/second_test/rps_data_sample/paper/318.jpg\n",
                                                "INFO:tensorflow:Loading image /home/bankab/AGH_ISS/Semestr_1/ICK/second_test/rps_data_sample/none/598.jpg\n",
                                                "INFO:tensorflow:Loading image /home/bankab/AGH_ISS/Semestr_1/ICK/second_test/rps_data_sample/rock/733.jpg\n",
                                                "INFO:tensorflow:Loading image /home/bankab/AGH_ISS/Semestr_1/ICK/second_test/rps_data_sample/paper/57.jpg\n",
                                                "INFO:tensorflow:Loading image /home/bankab/AGH_ISS/Semestr_1/ICK/second_test/rps_data_sample/none/511.jpg\n",
                                                "INFO:tensorflow:Loading image /home/bankab/AGH_ISS/Semestr_1/ICK/second_test/rps_data_sample/paper/666.jpg\n",
                                                "INFO:tensorflow:Loading image /home/bankab/AGH_ISS/Semestr_1/ICK/second_test/rps_data_sample/scissors/29.jpg\n",
                                                "INFO:tensorflow:Loading image /home/bankab/AGH_ISS/Semestr_1/ICK/second_test/rps_data_sample/rock/850.jpg\n",
                                                "INFO:tensorflow:Loading image /home/bankab/AGH_ISS/Semestr_1/ICK/second_test/rps_data_sample/scissors/673.jpg\n",
                                                "INFO:tensorflow:Loading image /home/bankab/AGH_ISS/Semestr_1/ICK/second_test/rps_data_sample/paper/482.jpg\n",
                                                "INFO:tensorflow:Loading image /home/bankab/AGH_ISS/Semestr_1/ICK/second_test/rps_data_sample/rock/545.jpg\n",
                                                "INFO:tensorflow:Loading image /home/bankab/AGH_ISS/Semestr_1/ICK/second_test/rps_data_sample/paper/518.jpg\n",
                                                "INFO:tensorflow:Loading image /home/bankab/AGH_ISS/Semestr_1/ICK/second_test/rps_data_sample/none/1876.jpg\n",
                                                "INFO:tensorflow:Loading image /home/bankab/AGH_ISS/Semestr_1/ICK/second_test/rps_data_sample/scissors/149.jpg\n",
                                                "INFO:tensorflow:Loading image /home/bankab/AGH_ISS/Semestr_1/ICK/second_test/rps_data_sample/paper/284.jpg\n",
                                                "INFO:tensorflow:Loading image /home/bankab/AGH_ISS/Semestr_1/ICK/second_test/rps_data_sample/none/939.jpg\n",
                                                "INFO:tensorflow:Loading image /home/bankab/AGH_ISS/Semestr_1/ICK/second_test/rps_data_sample/scissors/169.jpg\n",
                                                "INFO:tensorflow:Loading image /home/bankab/AGH_ISS/Semestr_1/ICK/second_test/rps_data_sample/none/236.jpg\n",
                                                "INFO:tensorflow:Loading image /home/bankab/AGH_ISS/Semestr_1/ICK/second_test/rps_data_sample/none/1906.jpg\n",
                                                "INFO:tensorflow:Loading image /home/bankab/AGH_ISS/Semestr_1/ICK/second_test/rps_data_sample/none/424.jpg\n",
                                                "INFO:tensorflow:Loading image /home/bankab/AGH_ISS/Semestr_1/ICK/second_test/rps_data_sample/rock/549.jpg\n",
                                                "INFO:tensorflow:Loading image /home/bankab/AGH_ISS/Semestr_1/ICK/second_test/rps_data_sample/paper/717.jpg\n",
                                                "INFO:tensorflow:Loading image /home/bankab/AGH_ISS/Semestr_1/ICK/second_test/rps_data_sample/scissors/788.jpg\n",
                                                "INFO:tensorflow:Loading image /home/bankab/AGH_ISS/Semestr_1/ICK/second_test/rps_data_sample/paper/227.jpg\n",
                                                "INFO:tensorflow:Loading image /home/bankab/AGH_ISS/Semestr_1/ICK/second_test/rps_data_sample/none/1590.jpg\n",
                                                "INFO:tensorflow:Loading image /home/bankab/AGH_ISS/Semestr_1/ICK/second_test/rps_data_sample/none/203.jpg\n",
                                                "INFO:tensorflow:Loading image /home/bankab/AGH_ISS/Semestr_1/ICK/second_test/rps_data_sample/rock/536.jpg\n",
                                                "INFO:tensorflow:Loading image /home/bankab/AGH_ISS/Semestr_1/ICK/second_test/rps_data_sample/paper/472.jpg\n",
                                                "INFO:tensorflow:Loading image /home/bankab/AGH_ISS/Semestr_1/ICK/second_test/rps_data_sample/rock/54.jpg\n",
                                                "INFO:tensorflow:Loading image /home/bankab/AGH_ISS/Semestr_1/ICK/second_test/rps_data_sample/none/1308.jpg\n",
                                                "INFO:tensorflow:Loading image /home/bankab/AGH_ISS/Semestr_1/ICK/second_test/rps_data_sample/none/349.jpg\n",
                                                "INFO:tensorflow:Loading image /home/bankab/AGH_ISS/Semestr_1/ICK/second_test/rps_data_sample/rock/147.jpg\n",
                                                "INFO:tensorflow:Loading image /home/bankab/AGH_ISS/Semestr_1/ICK/second_test/rps_data_sample/scissors/222.jpg\n",
                                                "INFO:tensorflow:Loading image /home/bankab/AGH_ISS/Semestr_1/ICK/second_test/rps_data_sample/rock/541.jpg\n",
                                                "INFO:tensorflow:Loading image /home/bankab/AGH_ISS/Semestr_1/ICK/second_test/rps_data_sample/paper/278.jpg\n",
                                                "INFO:tensorflow:Loading image /home/bankab/AGH_ISS/Semestr_1/ICK/second_test/rps_data_sample/none/275.jpg\n"
                                        ]
                                },
                                {
                                        "name": "stderr",
                                        "output_type": "stream",
                                        "text": [
                                                "2025-03-28 10:34:25.836900: I external/local_xla/xla/stream_executor/cuda/cuda_executor.cc:901] successful NUMA node read from SysFS had negative value (-1), but there must be at least one NUMA node, so returning NUMA node zero. See more at https://github.com/torvalds/linux/blob/v6.0/Documentation/ABI/testing/sysfs-bus-pci#L344-L355\n",
                                                "2025-03-28 10:34:25.860778: I external/local_xla/xla/stream_executor/cuda/cuda_executor.cc:901] successful NUMA node read from SysFS had negative value (-1), but there must be at least one NUMA node, so returning NUMA node zero. See more at https://github.com/torvalds/linux/blob/v6.0/Documentation/ABI/testing/sysfs-bus-pci#L344-L355\n",
                                                "2025-03-28 10:34:25.864592: I external/local_xla/xla/stream_executor/cuda/cuda_executor.cc:901] successful NUMA node read from SysFS had negative value (-1), but there must be at least one NUMA node, so returning NUMA node zero. See more at https://github.com/torvalds/linux/blob/v6.0/Documentation/ABI/testing/sysfs-bus-pci#L344-L355\n",
                                                "2025-03-28 10:34:25.870764: I external/local_xla/xla/stream_executor/cuda/cuda_executor.cc:901] successful NUMA node read from SysFS had negative value (-1), but there must be at least one NUMA node, so returning NUMA node zero. See more at https://github.com/torvalds/linux/blob/v6.0/Documentation/ABI/testing/sysfs-bus-pci#L344-L355\n",
                                                "2025-03-28 10:34:25.877841: I external/local_xla/xla/stream_executor/cuda/cuda_executor.cc:901] successful NUMA node read from SysFS had negative value (-1), but there must be at least one NUMA node, so returning NUMA node zero. See more at https://github.com/torvalds/linux/blob/v6.0/Documentation/ABI/testing/sysfs-bus-pci#L344-L355\n",
                                                "2025-03-28 10:34:25.883813: I external/local_xla/xla/stream_executor/cuda/cuda_executor.cc:901] successful NUMA node read from SysFS had negative value (-1), but there must be at least one NUMA node, so returning NUMA node zero. See more at https://github.com/torvalds/linux/blob/v6.0/Documentation/ABI/testing/sysfs-bus-pci#L344-L355\n",
                                                "2025-03-28 10:34:26.030742: I external/local_xla/xla/stream_executor/cuda/cuda_executor.cc:901] successful NUMA node read from SysFS had negative value (-1), but there must be at least one NUMA node, so returning NUMA node zero. See more at https://github.com/torvalds/linux/blob/v6.0/Documentation/ABI/testing/sysfs-bus-pci#L344-L355\n",
                                                "2025-03-28 10:34:26.032453: I external/local_xla/xla/stream_executor/cuda/cuda_executor.cc:901] successful NUMA node read from SysFS had negative value (-1), but there must be at least one NUMA node, so returning NUMA node zero. See more at https://github.com/torvalds/linux/blob/v6.0/Documentation/ABI/testing/sysfs-bus-pci#L344-L355\n",
                                                "2025-03-28 10:34:26.034073: I external/local_xla/xla/stream_executor/cuda/cuda_executor.cc:901] successful NUMA node read from SysFS had negative value (-1), but there must be at least one NUMA node, so returning NUMA node zero. See more at https://github.com/torvalds/linux/blob/v6.0/Documentation/ABI/testing/sysfs-bus-pci#L344-L355\n",
                                                "2025-03-28 10:34:26.035203: I tensorflow/core/common_runtime/gpu/gpu_device.cc:1929] Created device /job:localhost/replica:0/task:0/device:GPU:0 with 3876 MB memory:  -> device: 0, name: NVIDIA GeForce GTX 1660 Ti, pci bus id: 0000:01:00.0, compute capability: 7.5\n"
                                        ]
                                },
                                {
                                        "name": "stdout",
                                        "output_type": "stream",
                                        "text": [
                                                "Downloading https://storage.googleapis.com/mediapipe-assets/gesture_embedder.tar.gz to /tmp/model_maker/gesture_recognizer/gesture_embedder\n",
                                                "INFO:tensorflow:Load valid hands with size: 473, num_label: 4, labels: none,paper,rock,scissors.\n"
                                        ]
                                },
                                {
                                        "name": "stderr",
                                        "output_type": "stream",
                                        "text": [
                                                "INFO:tensorflow:Load valid hands with size: 473, num_label: 4, labels: none,paper,rock,scissors.\n"
                                        ]
                                }
                        ],
                        "source": [
                                "data = gesture_recognizer.Dataset.from_folder(\n",
                                "    dirname=dataset_path,\n",
                                "    hparams=gesture_recognizer.HandDataPreprocessingParams()\n",
                                ")\n",
                                "train_data, rest_data = data.split(0.8)\n",
                                "validation_data, test_data = rest_data.split(0.5)"
                        ]
                },
                {
                        "cell_type": "markdown",
                        "metadata": {
                                "id": "ndTh_ZyEIeKV"
                        },
                        "source": [
                                "**Train the model**"
                        ]
                },
                {
                        "cell_type": "markdown",
                        "metadata": {
                                "id": "yAXWc3bv8hpe"
                        },
                        "source": [
                                "Train the custom gesture recognizer by using the create method and passing in the training data, validation data, model options, and hyperparameters. For more information on model options and hyperparameters, see the [Hyperparameters](#hyperparameters) section below."
                        ]
                },
                {
                        "cell_type": "code",
                        "execution_count": 14,
                        "metadata": {
                                "id": "yk0UiRB6NZrb"
                        },
                        "outputs": [
                                {
                                        "name": "stdout",
                                        "output_type": "stream",
                                        "text": [
                                                "Model: \"model\"\n",
                                                "_________________________________________________________________\n",
                                                " Layer (type)                Output Shape              Param #   \n",
                                                "=================================================================\n",
                                                " hand_embedding (InputLayer  [(None, 128)]             0         \n",
                                                " )                                                               \n",
                                                "                                                                 \n",
                                                " batch_normalization (Batch  (None, 128)               512       \n",
                                                " Normalization)                                                  \n",
                                                "                                                                 \n",
                                                " re_lu (ReLU)                (None, 128)               0         \n",
                                                "                                                                 \n",
                                                " dropout (Dropout)           (None, 128)               0         \n",
                                                "                                                                 \n",
                                                " custom_gesture_recognizer_  (None, 4)                 516       \n",
                                                " out (Dense)                                                     \n",
                                                "                                                                 \n",
                                                "=================================================================\n",
                                                "Total params: 1028 (4.02 KB)\n",
                                                "Trainable params: 772 (3.02 KB)\n",
                                                "Non-trainable params: 256 (1.00 KB)\n",
                                                "_________________________________________________________________\n",
                                                "None\n",
                                                "INFO:tensorflow:Training the models...\n"
                                        ]
                                },
                                {
                                        "name": "stderr",
                                        "output_type": "stream",
                                        "text": [
                                                "INFO:tensorflow:Training the models...\n",
                                                "2025-03-28 10:34:29.822640: I external/local_tsl/tsl/platform/default/subprocess.cc:304] Start cannot spawn child process: No such file or directory\n"
                                        ]
                                },
                                {
                                        "name": "stdout",
                                        "output_type": "stream",
                                        "text": [
                                                "Epoch 1/10\n"
                                        ]
                                },
                                {
                                        "name": "stderr",
                                        "output_type": "stream",
                                        "text": [
                                                "2025-03-28 10:34:34.385450: I external/local_xla/xla/service/service.cc:168] XLA service 0x798a7564b020 initialized for platform CUDA (this does not guarantee that XLA will be used). Devices:\n",
                                                "2025-03-28 10:34:34.385511: I external/local_xla/xla/service/service.cc:176]   StreamExecutor device (0): NVIDIA GeForce GTX 1660 Ti, Compute Capability 7.5\n",
                                                "2025-03-28 10:34:34.401953: I tensorflow/compiler/mlir/tensorflow/utils/dump_mlir_util.cc:269] disabling MLIR crash reproducer, set env var `MLIR_CRASH_REPRODUCER_DIRECTORY` to enable.\n",
                                                "2025-03-28 10:34:34.451642: I external/local_xla/xla/stream_executor/cuda/cuda_dnn.cc:454] Loaded cuDNN version 8904\n",
                                                "WARNING: All log messages before absl::InitializeLog() is called are written to STDERR\n",
                                                "I0000 00:00:1743154474.689913    7041 device_compiler.h:186] Compiled cluster using XLA!  This line is logged at most once for the lifetime of the process.\n"
                                        ]
                                },
                                {
                                        "name": "stdout",
                                        "output_type": "stream",
                                        "text": [
                                                "    186/Unknown - 6s 7ms/step - loss: 0.8300 - categorical_accuracy: 0.3683"
                                        ]
                                },
                                {
                                        "name": "stderr",
                                        "output_type": "stream",
                                        "text": [
                                                "2025-03-28 10:34:36.924120: I tensorflow/core/framework/local_rendezvous.cc:421] Local rendezvous recv item cancelled. Key hash: 4704911066168351405\n",
                                                "2025-03-28 10:34:36.924157: I tensorflow/core/framework/local_rendezvous.cc:421] Local rendezvous recv item cancelled. Key hash: 5483793822605503007\n",
                                                "2025-03-28 10:34:36.924182: I tensorflow/core/framework/local_rendezvous.cc:421] Local rendezvous recv item cancelled. Key hash: 17446564653262796110\n"
                                        ]
                                },
                                {
                                        "name": "stdout",
                                        "output_type": "stream",
                                        "text": [
                                                "189/189 [==============================] - 8s 15ms/step - loss: 0.8329 - categorical_accuracy: 0.3651 - val_loss: 0.7090 - val_categorical_accuracy: 0.5319 - lr: 0.0010\n"
                                        ]
                                },
                                {
                                        "name": "stderr",
                                        "output_type": "stream",
                                        "text": [
                                                "2025-03-28 10:34:38.184017: I tensorflow/core/framework/local_rendezvous.cc:421] Local rendezvous recv item cancelled. Key hash: 2182011353960004307\n",
                                                "2025-03-28 10:34:38.184056: I tensorflow/core/framework/local_rendezvous.cc:421] Local rendezvous recv item cancelled. Key hash: 16946087962080311901\n"
                                        ]
                                },
                                {
                                        "name": "stdout",
                                        "output_type": "stream",
                                        "text": [
                                                "Epoch 2/10\n",
                                                "189/189 [==============================] - 2s 9ms/step - loss: 0.6215 - categorical_accuracy: 0.4921 - val_loss: 0.5286 - val_categorical_accuracy: 0.6383 - lr: 9.9000e-04\n",
                                                "Epoch 3/10\n",
                                                "189/189 [==============================] - 2s 8ms/step - loss: 0.5406 - categorical_accuracy: 0.5873 - val_loss: 0.4368 - val_categorical_accuracy: 0.6383 - lr: 9.8010e-04\n",
                                                "Epoch 4/10\n",
                                                "189/189 [==============================] - 2s 9ms/step - loss: 0.5024 - categorical_accuracy: 0.6217 - val_loss: 0.3763 - val_categorical_accuracy: 0.6809 - lr: 9.7030e-04\n",
                                                "Epoch 5/10\n",
                                                "189/189 [==============================] - 2s 8ms/step - loss: 0.4980 - categorical_accuracy: 0.6455 - val_loss: 0.3410 - val_categorical_accuracy: 0.7234 - lr: 9.6060e-04\n",
                                                "Epoch 6/10\n",
                                                "189/189 [==============================] - 2s 8ms/step - loss: 0.4795 - categorical_accuracy: 0.6640 - val_loss: 0.3163 - val_categorical_accuracy: 0.7447 - lr: 9.5099e-04\n",
                                                "Epoch 7/10\n",
                                                "189/189 [==============================] - 1s 8ms/step - loss: 0.4637 - categorical_accuracy: 0.6561 - val_loss: 0.3170 - val_categorical_accuracy: 0.7234 - lr: 9.4148e-04\n",
                                                "Epoch 8/10\n",
                                                "189/189 [==============================] - 2s 8ms/step - loss: 0.4434 - categorical_accuracy: 0.6720 - val_loss: 0.3006 - val_categorical_accuracy: 0.7872 - lr: 9.3207e-04\n",
                                                "Epoch 9/10\n",
                                                "189/189 [==============================] - 2s 8ms/step - loss: 0.4383 - categorical_accuracy: 0.7037 - val_loss: 0.2879 - val_categorical_accuracy: 0.7872 - lr: 9.2274e-04\n",
                                                "Epoch 10/10\n",
                                                "189/189 [==============================] - 2s 8ms/step - loss: 0.4435 - categorical_accuracy: 0.6772 - val_loss: 0.2977 - val_categorical_accuracy: 0.7872 - lr: 9.1352e-04\n"
                                        ]
                                }
                        ],
                        "source": [
                                "hparams = gesture_recognizer.HParams(export_dir=\"exported_model\")\n",
                                "options = gesture_recognizer.GestureRecognizerOptions(hparams=hparams)\n",
                                "model = gesture_recognizer.GestureRecognizer.create(\n",
                                "    train_data=train_data,\n",
                                "    validation_data=validation_data,\n",
                                "    options=options\n",
                                ")"
                        ]
                },
                {
                        "cell_type": "markdown",
                        "metadata": {
                                "id": "nED7mdIO9YS6"
                        },
                        "source": [
                                "**Evaluate the model performance**\n",
                                "\n",
                                "After training the model, evaluate it on a test dataset and print the loss and accuracy metrics."
                        ]
                },
                {
                        "cell_type": "code",
                        "execution_count": 15,
                        "metadata": {
                                "id": "OdOqllqx9YKy"
                        },
                        "outputs": [
                                {
                                        "name": "stdout",
                                        "output_type": "stream",
                                        "text": [
                                                "48/48 [==============================] - 1s 2ms/step - loss: 0.4871 - categorical_accuracy: 0.7083\n",
                                                "Test loss:0.4870522916316986, Test accuracy:0.7083333134651184\n"
                                        ]
                                },
                                {
                                        "name": "stderr",
                                        "output_type": "stream",
                                        "text": [
                                                "2025-03-28 10:34:54.322763: I tensorflow/core/framework/local_rendezvous.cc:421] Local rendezvous recv item cancelled. Key hash: 2182011353960004307\n",
                                                "2025-03-28 10:34:54.322787: I tensorflow/core/framework/local_rendezvous.cc:421] Local rendezvous recv item cancelled. Key hash: 16946087962080311901\n",
                                                "2025-03-28 10:34:54.322799: I tensorflow/core/framework/local_rendezvous.cc:421] Local rendezvous recv item cancelled. Key hash: 11530370678210044963\n"
                                        ]
                                }
                        ],
                        "source": [
                                "loss, acc = model.evaluate(test_data, batch_size=1)\n",
                                "print(f\"Test loss:{loss}, Test accuracy:{acc}\")"
                        ]
                },
                {
                        "cell_type": "markdown",
                        "metadata": {
                                "id": "vJLramjy9gvy"
                        },
                        "source": [
                                "**Export to Tensorflow Lite Model**\n",
                                "\n",
                                "After creating the model, convert and export it to a Tensorflow Lite model format for later use on an on-device application. The export also includes model metadata, which includes the label file."
                        ]
                },
                {
                        "cell_type": "code",
                        "execution_count": 16,
                        "metadata": {
                                "id": "fmNaFXytijVg"
                        },
                        "outputs": [
                                {
                                        "name": "stdout",
                                        "output_type": "stream",
                                        "text": [
                                                "Downloading https://storage.googleapis.com/mediapipe-assets/gesture_embedder.tflite to /tmp/model_maker/gesture_recognizer/gesture_embedder.tflite\n",
                                                "Using existing files at /tmp/model_maker/gesture_recognizer/palm_detection_full.tflite\n",
                                                "Using existing files at /tmp/model_maker/gesture_recognizer/hand_landmark_full.tflite\n",
                                                "Downloading https://storage.googleapis.com/mediapipe-assets/canned_gesture_classifier.tflite to /tmp/model_maker/gesture_recognizer/canned_gesture_classifier.tflite\n",
                                                "INFO:tensorflow:Assets written to: /tmp/tmp_uq53mab/saved_model/assets\n"
                                        ]
                                },
                                {
                                        "name": "stderr",
                                        "output_type": "stream",
                                        "text": [
                                                "INFO:tensorflow:Assets written to: /tmp/tmp_uq53mab/saved_model/assets\n",
                                                "2025-03-28 10:34:56.348067: W tensorflow/compiler/mlir/lite/python/tf_tfl_flatbuffer_helpers.cc:378] Ignored output_format.\n",
                                                "2025-03-28 10:34:56.348087: W tensorflow/compiler/mlir/lite/python/tf_tfl_flatbuffer_helpers.cc:381] Ignored drop_control_dependency.\n"
                                        ]
                                },
                                {
                                        "name": "stdout",
                                        "output_type": "stream",
                                        "text": [
                                                "best_model_weights.data-00000-of-00001\tepoch_models\t\t metadata.json\n",
                                                "best_model_weights.index\t\tgesture_recognizer.task\n",
                                                "checkpoint\t\t\t\tlogs\n"
                                        ]
                                },
                                {
                                        "name": "stderr",
                                        "output_type": "stream",
                                        "text": [
                                                "2025-03-28 10:34:56.348324: I tensorflow/cc/saved_model/reader.cc:83] Reading SavedModel from: /tmp/tmp_uq53mab/saved_model\n",
                                                "2025-03-28 10:34:56.349112: I tensorflow/cc/saved_model/reader.cc:51] Reading meta graph with tags { serve }\n",
                                                "2025-03-28 10:34:56.349123: I tensorflow/cc/saved_model/reader.cc:146] Reading SavedModel debug info (if present) from: /tmp/tmp_uq53mab/saved_model\n",
                                                "2025-03-28 10:34:56.351194: I tensorflow/compiler/mlir/mlir_graph_optimization_pass.cc:388] MLIR V1 optimization pass is not enabled\n",
                                                "2025-03-28 10:34:56.351733: I tensorflow/cc/saved_model/loader.cc:233] Restoring SavedModel bundle.\n",
                                                "2025-03-28 10:34:56.368633: I tensorflow/cc/saved_model/loader.cc:217] Running initialization op on SavedModel bundle at path: /tmp/tmp_uq53mab/saved_model\n",
                                                "2025-03-28 10:34:56.375227: I tensorflow/cc/saved_model/loader.cc:316] SavedModel load for tags { serve }; Status: success: OK. Took 26903 microseconds.\n",
                                                "Summary on the non-converted ops:\n",
                                                "---------------------------------\n",
                                                " * Accepted dialects: tfl, builtin, func\n",
                                                " * Non-Converted Ops: 4, Total Ops 11, % non-converted = 36.36 %\n",
                                                " * 4 ARITH ops\n",
                                                "\n",
                                                "- arith.constant:    4 occurrences  (f32: 4)\n",
                                                "\n",
                                                "\n",
                                                "\n",
                                                "  (f32: 1)\n",
                                                "  (f32: 1)\n",
                                                "  (f32: 1)\n",
                                                "  (f32: 1)\n"
                                        ]
                                }
                        ],
                        "source": [
                                "model.export_model()\n",
                                "!ls exported_model"
                        ]
                },
                {
                        "cell_type": "markdown",
                        "metadata": {
                                "id": "ulqyNGmTCKeU"
                        },
                        "source": [
                                "## Run the model on-device\n",
                                "\n",
                                "To use the TFLite model for on-device usage through MediaPipe Tasks, refer to the Gesture Recognizer [overview page](https://developers.google.com/mediapipe/solutions/vision/gesture_recognizer)."
                        ]
                },
                {
                        "cell_type": "markdown",
                        "metadata": {
                                "id": "F1tiLGGRcvhy"
                        },
                        "source": [
                                "## Hyperparameters {:#hyperparameters}\n"
                        ]
                },
                {
                        "cell_type": "markdown",
                        "metadata": {
                                "id": "f1UMEG85hQL_"
                        },
                        "source": [
                                "You can further customize the model using the `GestureRecognizerOptions` class, which has two optional parameters for `ModelOptions` and `HParams`. Use the `ModelOptions` class to customize parameters related to the model itself, and the `HParams` class to customize other parameters related to training and saving the model.\n",
                                "\n",
                                "`ModelOptions` has one customizable parameter that affects accuracy:\n",
                                "* `dropout_rate`: The fraction of the input units to drop. Used in dropout layer. Defaults to 0.05.\n",
                                "* `layer_widths`: A list of hidden layer widths for the gesture model. Each element in the list will create a new hidden layer with the specified width. The hidden layers are separated with BatchNorm, Dropout, and ReLU. Defaults to an empty list(no hidden layers).\n",
                                "\n",
                                "`HParams` has the following list of customizable parameters which affect model accuracy:\n",
                                "* `learning_rate`: The learning rate to use for gradient descent training. Defaults to 0.001.\n",
                                "* `batch_size`: Batch size for training. Defaults to 2.\n",
                                "* `epochs`: Number of training iterations over the dataset. Defaults to 10.\n",
                                "* `steps_per_epoch`: An optional integer that indicates the number of training steps per epoch. If not set, the training pipeline calculates the default steps per epoch as the training dataset size divided by batch size.\n",
                                "* `shuffle`: True if the dataset is shuffled before training. Defaults to False.\n",
                                "* `lr_decay`: Learning rate decay to use for gradient descent training. Defaults to 0.99.\n",
                                "* `gamma`: Gamma parameter for focal loss. Defaults to 2\n",
                                "\n",
                                "Additional `HParams` parameter that does not affect model accuracy:\n",
                                "* `export_dir`: The location of the model checkpoint files and exported model files."
                        ]
                },
                {
                        "cell_type": "markdown",
                        "metadata": {
                                "id": "psvVZeSYBLfV"
                        },
                        "source": [
                                "For example, the following trains a new model with the dropout_rate of 0.2 and learning rate of 0.003."
                        ]
                },
                {
                        "cell_type": "code",
                        "execution_count": 18,
                        "metadata": {
                                "id": "CxMOI8o6iNLu"
                        },
                        "outputs": [
                                {
                                        "name": "stdout",
                                        "output_type": "stream",
                                        "text": [
                                                "Model: \"model_1\"\n",
                                                "_________________________________________________________________\n",
                                                " Layer (type)                Output Shape              Param #   \n",
                                                "=================================================================\n",
                                                " hand_embedding (InputLayer  [(None, 128)]             0         \n",
                                                " )                                                               \n",
                                                "                                                                 \n",
                                                " batch_normalization_1 (Bat  (None, 128)               512       \n",
                                                " chNormalization)                                                \n",
                                                "                                                                 \n",
                                                " re_lu_1 (ReLU)              (None, 128)               0         \n",
                                                "                                                                 \n",
                                                " dropout_1 (Dropout)         (None, 128)               0         \n",
                                                "                                                                 \n",
                                                " custom_gesture_recognizer_  (None, 4)                 516       \n",
                                                " out (Dense)                                                     \n",
                                                "                                                                 \n",
                                                "=================================================================\n",
                                                "Total params: 1028 (4.02 KB)\n",
                                                "Trainable params: 772 (3.02 KB)\n",
                                                "Non-trainable params: 256 (1.00 KB)\n",
                                                "_________________________________________________________________\n",
                                                "None\n",
                                                "INFO:tensorflow:Training the models...\n"
                                        ]
                                },
                                {
                                        "name": "stderr",
                                        "output_type": "stream",
                                        "text": [
                                                "INFO:tensorflow:Training the models...\n"
                                        ]
                                },
                                {
                                        "name": "stdout",
                                        "output_type": "stream",
                                        "text": [
                                                "Epoch 1/10\n",
                                                "    186/Unknown - 2s 5ms/step - loss: 0.8473 - categorical_accuracy: 0.4140"
                                        ]
                                },
                                {
                                        "name": "stderr",
                                        "output_type": "stream",
                                        "text": [
                                                "2025-03-28 10:35:27.904092: I tensorflow/core/framework/local_rendezvous.cc:421] Local rendezvous recv item cancelled. Key hash: 4704911066168351405\n",
                                                "2025-03-28 10:35:27.904133: I tensorflow/core/framework/local_rendezvous.cc:421] Local rendezvous recv item cancelled. Key hash: 5483793822605503007\n",
                                                "2025-03-28 10:35:27.904166: I tensorflow/core/framework/local_rendezvous.cc:421] Local rendezvous recv item cancelled. Key hash: 17446564653262796110\n"
                                        ]
                                },
                                {
                                        "name": "stdout",
                                        "output_type": "stream",
                                        "text": [
                                                "189/189 [==============================] - 3s 10ms/step - loss: 0.8445 - categorical_accuracy: 0.4153 - val_loss: 0.3494 - val_categorical_accuracy: 0.7660 - lr: 0.0030\n",
                                                "Epoch 2/10\n"
                                        ]
                                },
                                {
                                        "name": "stderr",
                                        "output_type": "stream",
                                        "text": [
                                                "2025-03-28 10:35:28.910687: I tensorflow/core/framework/local_rendezvous.cc:421] Local rendezvous recv item cancelled. Key hash: 2182011353960004307\n",
                                                "2025-03-28 10:35:28.910726: I tensorflow/core/framework/local_rendezvous.cc:421] Local rendezvous recv item cancelled. Key hash: 16946087962080311901\n",
                                                "2025-03-28 10:35:28.910737: I tensorflow/core/framework/local_rendezvous.cc:421] Local rendezvous recv item cancelled. Key hash: 11530370678210044963\n"
                                        ]
                                },
                                {
                                        "name": "stdout",
                                        "output_type": "stream",
                                        "text": [
                                                "189/189 [==============================] - 1s 8ms/step - loss: 0.5777 - categorical_accuracy: 0.5794 - val_loss: 0.2593 - val_categorical_accuracy: 0.8298 - lr: 0.0030\n",
                                                "Epoch 3/10\n",
                                                "189/189 [==============================] - 2s 8ms/step - loss: 0.5644 - categorical_accuracy: 0.6058 - val_loss: 0.1956 - val_categorical_accuracy: 0.8511 - lr: 0.0029\n",
                                                "Epoch 4/10\n",
                                                "189/189 [==============================] - 1s 8ms/step - loss: 0.4927 - categorical_accuracy: 0.6587 - val_loss: 0.1891 - val_categorical_accuracy: 0.8298 - lr: 0.0029\n",
                                                "Epoch 5/10\n",
                                                "189/189 [==============================] - 1s 8ms/step - loss: 0.5062 - categorical_accuracy: 0.6534 - val_loss: 0.1990 - val_categorical_accuracy: 0.8298 - lr: 0.0029\n",
                                                "Epoch 6/10\n",
                                                "189/189 [==============================] - 1s 8ms/step - loss: 0.4813 - categorical_accuracy: 0.6402 - val_loss: 0.1744 - val_categorical_accuracy: 0.8723 - lr: 0.0029\n",
                                                "Epoch 7/10\n",
                                                "189/189 [==============================] - 1s 8ms/step - loss: 0.4809 - categorical_accuracy: 0.6640 - val_loss: 0.1979 - val_categorical_accuracy: 0.8298 - lr: 0.0028\n",
                                                "Epoch 8/10\n",
                                                "189/189 [==============================] - 1s 7ms/step - loss: 0.4450 - categorical_accuracy: 0.7011 - val_loss: 0.1914 - val_categorical_accuracy: 0.8723 - lr: 0.0028\n",
                                                "Epoch 9/10\n",
                                                "189/189 [==============================] - 2s 8ms/step - loss: 0.4389 - categorical_accuracy: 0.6693 - val_loss: 0.2009 - val_categorical_accuracy: 0.8723 - lr: 0.0028\n",
                                                "Epoch 10/10\n",
                                                "189/189 [==============================] - 2s 8ms/step - loss: 0.4332 - categorical_accuracy: 0.6720 - val_loss: 0.1939 - val_categorical_accuracy: 0.8511 - lr: 0.0027\n"
                                        ]
                                }
                        ],
                        "source": [
                                "hparams = gesture_recognizer.HParams(learning_rate=0.003, export_dir=\"exported_model_2\")\n",
                                "model_options = gesture_recognizer.ModelOptions(dropout_rate=0.2)\n",
                                "options = gesture_recognizer.GestureRecognizerOptions(model_options=model_options, hparams=hparams)\n",
                                "model_2 = gesture_recognizer.GestureRecognizer.create(\n",
                                "    train_data=train_data,\n",
                                "    validation_data=validation_data,\n",
                                "    options=options\n",
                                ")"
                        ]
                },
                {
                        "cell_type": "markdown",
                        "metadata": {
                                "id": "3cekuTJiBbv9"
                        },
                        "source": [
                                "Evaluate the newly trained model."
                        ]
                },
                {
                        "cell_type": "code",
                        "execution_count": 19,
                        "metadata": {
                                "id": "RRH96bm-BbAo"
                        },
                        "outputs": [
                                {
                                        "name": "stdout",
                                        "output_type": "stream",
                                        "text": [
                                                "2/2 [==============================] - 1s 15ms/step - loss: 0.4960 - categorical_accuracy: 0.7500\n",
                                                "Test loss:0.49600863456726074, Test accuracy:0.75\n"
                                        ]
                                },
                                {
                                        "name": "stderr",
                                        "output_type": "stream",
                                        "text": [
                                                "2025-03-28 10:35:50.997216: I tensorflow/core/framework/local_rendezvous.cc:421] Local rendezvous recv item cancelled. Key hash: 2182011353960004307\n",
                                                "2025-03-28 10:35:50.997238: I tensorflow/core/framework/local_rendezvous.cc:421] Local rendezvous recv item cancelled. Key hash: 16946087962080311901\n",
                                                "2025-03-28 10:35:50.997251: I tensorflow/core/framework/local_rendezvous.cc:421] Local rendezvous recv item cancelled. Key hash: 11530370678210044963\n"
                                        ]
                                }
                        ],
                        "source": [
                                "loss, accuracy = model_2.evaluate(test_data)\n",
                                "print(f\"Test loss:{loss}, Test accuracy:{accuracy}\")"
                        ]
                }
        ],
        "metadata": {
                "colab": {
                        "last_runtime": {
                                "build_target": "",
                                "kind": "local"
                        },
                        "private_outputs": true,
                        "provenance": []
                },
                "kernelspec": {
                        "display_name": "ICK_310",
                        "language": "python",
                        "name": "python3"
                },
                "language_info": {
                        "codemirror_mode": {
                                "name": "ipython",
                                "version": 3
                        },
                        "file_extension": ".py",
                        "mimetype": "text/x-python",
                        "name": "python",
                        "nbconvert_exporter": "python",
                        "pygments_lexer": "ipython3",
                        "version": "3.10.16"
                }
        },
        "nbformat": 4,
        "nbformat_minor": 0
}
